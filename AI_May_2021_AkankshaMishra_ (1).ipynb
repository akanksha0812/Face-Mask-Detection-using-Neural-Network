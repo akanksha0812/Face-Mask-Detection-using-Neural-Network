{
  "nbformat": 4,
  "nbformat_minor": 0,
  "metadata": {
    "colab": {
      "name": "Copy of AI_May-2021_AkankshaMishra_.ipynb",
      "provenance": [],
      "collapsed_sections": []
    },
    "kernelspec": {
      "name": "python3",
      "display_name": "Python 3"
    },
    "language_info": {
      "name": "python"
    }
  },
  "cells": [
    {
      "cell_type": "code",
      "metadata": {
        "id": "UdL0P0zFfXga"
      },
      "source": [
        "#                                   MAJOR PROJECT ON FACEMASK DETECTION\n",
        "#  Tasks:\n",
        "#       1.Build a Neural Network, to classify “Mask” and “Without Mask” images.\n",
        "#       2.Using OpenCV, predict each image in a webcam video( whether it belongs to “Mask” or “Without Mask” image).  Round a rectangle on the detected face, and also put a text above that rectangle, depicting whether it is a masked\n",
        "#         or a non-masked image.   \n",
        "#  SUBMITTED BY:- Akanksha Mishra  EMAIL ID:-akankshamishradolly@gmail.com"
      ],
      "execution_count": null,
      "outputs": []
    },
    {
      "cell_type": "code",
      "metadata": {
        "id": "Qk89m8jV5OBV"
      },
      "source": [
        "from tensorflow.keras.models import Sequential\n",
        "from tensorflow.keras.layers import Conv2D, MaxPooling2D, Dropout, Flatten, Dense\n",
        "from tensorflow.keras.optimizers import Adam\n",
        "from tensorflow.keras.preprocessing.image import ImageDataGenerator\n",
        "import numpy as np\n",
        "import matplotlib.pyplot as plt"
      ],
      "execution_count": null,
      "outputs": []
    },
    {
      "cell_type": "code",
      "metadata": {
        "colab": {
          "base_uri": "https://localhost:8080/"
        },
        "id": "q8q4Q7QM5uvJ",
        "outputId": "64164ffe-58b2-4ae6-c23f-b5a62667c57e"
      },
      "source": [
        "from google.colab import drive\n",
        "drive.mount('/content/drive')"
      ],
      "execution_count": null,
      "outputs": [
        {
          "output_type": "stream",
          "text": [
            "Mounted at /content/drive\n"
          ],
          "name": "stdout"
        }
      ]
    },
    {
      "cell_type": "code",
      "metadata": {
        "colab": {
          "base_uri": "https://localhost:8080/"
        },
        "id": "B5eodyiT58oy",
        "outputId": "b80e468a-6fab-42c8-aea3-fec4f092acd6"
      },
      "source": [
        "!unzip -uq \"/content/drive/MyDrive/archive\" -d \"/content/drive/MyDrive/archive\""
      ],
      "execution_count": null,
      "outputs": [
        {
          "output_type": "stream",
          "text": [
            "unzip:  cannot find or open /content/drive/MyDrive/archive, /content/drive/MyDrive/archive.zip or /content/drive/MyDrive/archive.ZIP.\n"
          ],
          "name": "stdout"
        }
      ]
    },
    {
      "cell_type": "code",
      "metadata": {
        "id": "_vSdh9og6Ysp"
      },
      "source": [
        "import os\n",
        "main_dir = '/content/drive/My Drive/archive/New Masks Dataset'\n",
        "train_dir = os.path.join(main_dir,'Train')\n",
        "test_dir = os.path.join(main_dir,'Test')\n",
        "valid_dir = os.path.join(main_dir,'Validation')\n",
        "\n",
        "train_mask_dir = os.path.join(train_dir,'Mask')\n",
        "train_nomask_dir = os.path.join(train_dir,'Non Mask')"
      ],
      "execution_count": null,
      "outputs": []
    },
    {
      "cell_type": "code",
      "metadata": {
        "colab": {
          "base_uri": "https://localhost:8080/"
        },
        "id": "_c3CzhR66zOt",
        "outputId": "0c258e5f-64c7-4a69-d4ba-a2bb79e943f4"
      },
      "source": [
        "print(train_dir)"
      ],
      "execution_count": null,
      "outputs": [
        {
          "output_type": "stream",
          "text": [
            "/content/drive/My Drive/archive/New Masks Dataset/Train\n"
          ],
          "name": "stdout"
        }
      ]
    },
    {
      "cell_type": "code",
      "metadata": {
        "colab": {
          "base_uri": "https://localhost:8080/"
        },
        "id": "S2-yJwmK7Qgb",
        "outputId": "c4c867d2-b2d4-4cae-ae97-64a22ccd06bf"
      },
      "source": [
        "train_mask_names = os.listdir(train_mask_dir)\n",
        "print(train_mask_names[:10])\n",
        "\n",
        "train_nomask_names = os.listdir(train_nomask_dir)\n",
        "print(train_nomask_names[:10])"
      ],
      "execution_count": null,
      "outputs": [
        {
          "output_type": "stream",
          "text": [
            "['0003.jpg', '0029.jpg', '0022.jpg', '0019.jpg', '0006.jpg', '0018.jpg', '0040.jpg', '0042.jpg', '0027.jpg', '0037.jpg']\n",
            "['135.jpg', '12.jpg', '107.jpg', '153.jpg', '149.jpg', '127.jpg', '1.jpg', '110.jpg', '154.jpg', '151.jpg']\n"
          ],
          "name": "stdout"
        }
      ]
    },
    {
      "cell_type": "code",
      "metadata": {
        "colab": {
          "base_uri": "https://localhost:8080/"
        },
        "id": "chKmxatJ7Xe3",
        "outputId": "0f2b057e-4b56-47df-f14b-71b222106474"
      },
      "source": [
        "#image data generation\n",
        "train_datagen = ImageDataGenerator(rescale=1./255,\n",
        "                                   zoom_range = 0.2,\n",
        "                                   rotation_range = 40,\n",
        "                                   horizontal_flip = True\n",
        "                                   )\n",
        "test_datagen = ImageDataGenerator(rescale=1./255)\n",
        "validation_datagen = ImageDataGenerator(rescale=1./255)\n",
        "\n",
        "train_generator = train_datagen.flow_from_directory(train_dir,\n",
        "                                                    target_size=(150,150),\n",
        "                                                    batch_size = 32,\n",
        "                                                    class_mode = 'binary'\n",
        "                                                    )\n",
        "test_generator = test_datagen.flow_from_directory(test_dir,\n",
        "                                                    target_size=(150,150),\n",
        "                                                    batch_size = 32,\n",
        "                                                    class_mode = 'binary'\n",
        "                                                    )\n",
        "valid_generator = validation_datagen.flow_from_directory(valid_dir,\n",
        "                                                    target_size=(150,150),\n",
        "                                                    batch_size = 32,\n",
        "                                                    class_mode = 'binary'\n",
        "                                                    )"
      ],
      "execution_count": null,
      "outputs": [
        {
          "output_type": "stream",
          "text": [
            "Found 600 images belonging to 2 classes.\n",
            "Found 100 images belonging to 2 classes.\n",
            "Found 306 images belonging to 2 classes.\n"
          ],
          "name": "stdout"
        }
      ]
    },
    {
      "cell_type": "code",
      "metadata": {
        "colab": {
          "base_uri": "https://localhost:8080/"
        },
        "id": "ciQluBCd7ii9",
        "outputId": "7c3eeb39-7a2c-4b4f-8b61-76919e328e48"
      },
      "source": [
        "train_generator.class_indices"
      ],
      "execution_count": null,
      "outputs": [
        {
          "output_type": "execute_result",
          "data": {
            "text/plain": [
              "{'Mask': 0, 'Non Mask': 1}"
            ]
          },
          "metadata": {
            "tags": []
          },
          "execution_count": 10
        }
      ]
    },
    {
      "cell_type": "code",
      "metadata": {
        "colab": {
          "base_uri": "https://localhost:8080/"
        },
        "id": "qRqxh-XQ7qMc",
        "outputId": "056188e6-8018-41a4-ff70-9eede8488f0b"
      },
      "source": [
        "train_generator.image_shape"
      ],
      "execution_count": null,
      "outputs": [
        {
          "output_type": "execute_result",
          "data": {
            "text/plain": [
              "(150, 150, 3)"
            ]
          },
          "metadata": {
            "tags": []
          },
          "execution_count": 11
        }
      ]
    },
    {
      "cell_type": "code",
      "metadata": {
        "colab": {
          "base_uri": "https://localhost:8080/"
        },
        "id": "qFICCkXn7wDZ",
        "outputId": "813e2680-6b1f-4177-b891-109fe15b0d72"
      },
      "source": [
        "model = Sequential()\n",
        "model.add(Conv2D(32,(3,3),padding='SAME',activation='relu',input_shape=(150,150,3)))\n",
        "model.add(MaxPooling2D(pool_size=(2,2)))\n",
        "model.add(Dropout(0.5))\n",
        "\n",
        "\n",
        "model.add(Conv2D(64,(3,3),padding='SAME',activation='relu'))\n",
        "model.add(MaxPooling2D(pool_size=(2,2)))\n",
        "model.add(Dropout(0.5))\n",
        "\n",
        "model.add(Flatten())\n",
        "\n",
        "model.add(Dense(256,activation='relu'))\n",
        "model.add(Dropout(0.5))\n",
        "model.add(Dense(1,activation='sigmoid'))\n",
        "model.summary()"
      ],
      "execution_count": null,
      "outputs": [
        {
          "output_type": "stream",
          "text": [
            "Model: \"sequential\"\n",
            "_________________________________________________________________\n",
            "Layer (type)                 Output Shape              Param #   \n",
            "=================================================================\n",
            "conv2d (Conv2D)              (None, 150, 150, 32)      896       \n",
            "_________________________________________________________________\n",
            "max_pooling2d (MaxPooling2D) (None, 75, 75, 32)        0         \n",
            "_________________________________________________________________\n",
            "dropout (Dropout)            (None, 75, 75, 32)        0         \n",
            "_________________________________________________________________\n",
            "conv2d_1 (Conv2D)            (None, 75, 75, 64)        18496     \n",
            "_________________________________________________________________\n",
            "max_pooling2d_1 (MaxPooling2 (None, 37, 37, 64)        0         \n",
            "_________________________________________________________________\n",
            "dropout_1 (Dropout)          (None, 37, 37, 64)        0         \n",
            "_________________________________________________________________\n",
            "flatten (Flatten)            (None, 87616)             0         \n",
            "_________________________________________________________________\n",
            "dense (Dense)                (None, 256)               22429952  \n",
            "_________________________________________________________________\n",
            "dropout_2 (Dropout)          (None, 256)               0         \n",
            "_________________________________________________________________\n",
            "dense_1 (Dense)              (None, 1)                 257       \n",
            "=================================================================\n",
            "Total params: 22,449,601\n",
            "Trainable params: 22,449,601\n",
            "Non-trainable params: 0\n",
            "_________________________________________________________________\n"
          ],
          "name": "stdout"
        }
      ]
    },
    {
      "cell_type": "code",
      "metadata": {
        "colab": {
          "base_uri": "https://localhost:8080/"
        },
        "id": "TrafnN5E73Ow",
        "outputId": "707a7fbf-c6d9-434d-888c-158ec0407af1"
      },
      "source": [
        "model.compile(Adam(lr=0.001),loss='binary_crossentropy',metrics=['accuracy'])"
      ],
      "execution_count": null,
      "outputs": [
        {
          "output_type": "stream",
          "text": [
            "/usr/local/lib/python3.7/dist-packages/tensorflow/python/keras/optimizer_v2/optimizer_v2.py:375: UserWarning: The `lr` argument is deprecated, use `learning_rate` instead.\n",
            "  \"The `lr` argument is deprecated, use `learning_rate` instead.\")\n"
          ],
          "name": "stderr"
        }
      ]
    },
    {
      "cell_type": "code",
      "metadata": {
        "colab": {
          "base_uri": "https://localhost:8080/"
        },
        "id": "5HPtbCPc8nbz",
        "outputId": "c3fe431a-c2f3-4328-d61a-5a8e7e8b7a55"
      },
      "source": [
        "hisory = model.fit(train_generator,\n",
        "                   epochs = 30,\n",
        "                   validation_data = valid_generator)"
      ],
      "execution_count": null,
      "outputs": [
        {
          "output_type": "stream",
          "text": [
            "Epoch 1/30\n",
            "19/19 [==============================] - 511s 27s/step - loss: 1.5938 - accuracy: 0.5733 - val_loss: 0.6889 - val_accuracy: 0.5458\n",
            "Epoch 2/30\n",
            "19/19 [==============================] - 40s 2s/step - loss: 0.5193 - accuracy: 0.7483 - val_loss: 0.5062 - val_accuracy: 0.8431\n",
            "Epoch 3/30\n",
            "19/19 [==============================] - 40s 2s/step - loss: 0.3624 - accuracy: 0.8750 - val_loss: 0.4631 - val_accuracy: 0.8464\n",
            "Epoch 4/30\n",
            "19/19 [==============================] - 40s 2s/step - loss: 0.3201 - accuracy: 0.8800 - val_loss: 0.3321 - val_accuracy: 0.8889\n",
            "Epoch 5/30\n",
            "19/19 [==============================] - 40s 2s/step - loss: 0.3004 - accuracy: 0.8900 - val_loss: 0.3065 - val_accuracy: 0.9248\n",
            "Epoch 6/30\n",
            "19/19 [==============================] - 40s 2s/step - loss: 0.2800 - accuracy: 0.9033 - val_loss: 0.3273 - val_accuracy: 0.8889\n",
            "Epoch 7/30\n",
            "19/19 [==============================] - 40s 2s/step - loss: 0.2397 - accuracy: 0.9100 - val_loss: 0.2657 - val_accuracy: 0.9281\n",
            "Epoch 8/30\n",
            "19/19 [==============================] - 40s 2s/step - loss: 0.2091 - accuracy: 0.9333 - val_loss: 0.2476 - val_accuracy: 0.9085\n",
            "Epoch 9/30\n",
            "19/19 [==============================] - 40s 2s/step - loss: 0.2045 - accuracy: 0.9300 - val_loss: 0.2350 - val_accuracy: 0.9183\n",
            "Epoch 10/30\n",
            "19/19 [==============================] - 40s 2s/step - loss: 0.2084 - accuracy: 0.9283 - val_loss: 0.2384 - val_accuracy: 0.9052\n",
            "Epoch 11/30\n",
            "19/19 [==============================] - 40s 2s/step - loss: 0.1851 - accuracy: 0.9400 - val_loss: 0.2537 - val_accuracy: 0.9052\n",
            "Epoch 12/30\n",
            "19/19 [==============================] - 40s 2s/step - loss: 0.2120 - accuracy: 0.9217 - val_loss: 0.2603 - val_accuracy: 0.8922\n",
            "Epoch 13/30\n",
            "19/19 [==============================] - 40s 2s/step - loss: 0.2006 - accuracy: 0.9333 - val_loss: 0.3547 - val_accuracy: 0.8333\n",
            "Epoch 14/30\n",
            "19/19 [==============================] - 40s 2s/step - loss: 0.1993 - accuracy: 0.9133 - val_loss: 0.2696 - val_accuracy: 0.8954\n",
            "Epoch 15/30\n",
            "19/19 [==============================] - 40s 2s/step - loss: 0.2012 - accuracy: 0.9267 - val_loss: 0.2867 - val_accuracy: 0.9150\n",
            "Epoch 16/30\n",
            "19/19 [==============================] - 40s 2s/step - loss: 0.1785 - accuracy: 0.9450 - val_loss: 0.2304 - val_accuracy: 0.9118\n",
            "Epoch 17/30\n",
            "19/19 [==============================] - 40s 2s/step - loss: 0.1778 - accuracy: 0.9400 - val_loss: 0.2398 - val_accuracy: 0.9052\n",
            "Epoch 18/30\n",
            "19/19 [==============================] - 40s 2s/step - loss: 0.1818 - accuracy: 0.9367 - val_loss: 0.2700 - val_accuracy: 0.9020\n",
            "Epoch 19/30\n",
            "19/19 [==============================] - 40s 2s/step - loss: 0.1816 - accuracy: 0.9417 - val_loss: 0.2268 - val_accuracy: 0.9085\n",
            "Epoch 20/30\n",
            "19/19 [==============================] - 40s 2s/step - loss: 0.1636 - accuracy: 0.9383 - val_loss: 0.2263 - val_accuracy: 0.9052\n",
            "Epoch 21/30\n",
            "19/19 [==============================] - 40s 2s/step - loss: 0.1993 - accuracy: 0.9267 - val_loss: 0.2405 - val_accuracy: 0.9052\n",
            "Epoch 22/30\n",
            "19/19 [==============================] - 40s 2s/step - loss: 0.1722 - accuracy: 0.9400 - val_loss: 0.2480 - val_accuracy: 0.8954\n",
            "Epoch 23/30\n",
            "19/19 [==============================] - 40s 2s/step - loss: 0.1615 - accuracy: 0.9450 - val_loss: 0.2485 - val_accuracy: 0.9052\n",
            "Epoch 24/30\n",
            "19/19 [==============================] - 40s 2s/step - loss: 0.1536 - accuracy: 0.9483 - val_loss: 0.2433 - val_accuracy: 0.9020\n",
            "Epoch 25/30\n",
            "19/19 [==============================] - 40s 2s/step - loss: 0.1592 - accuracy: 0.9400 - val_loss: 0.2327 - val_accuracy: 0.9052\n",
            "Epoch 26/30\n",
            "19/19 [==============================] - 40s 2s/step - loss: 0.1317 - accuracy: 0.9583 - val_loss: 0.2409 - val_accuracy: 0.9020\n",
            "Epoch 27/30\n",
            "19/19 [==============================] - 40s 2s/step - loss: 0.1898 - accuracy: 0.9217 - val_loss: 0.2814 - val_accuracy: 0.8856\n",
            "Epoch 28/30\n",
            "19/19 [==============================] - 40s 2s/step - loss: 0.1871 - accuracy: 0.9300 - val_loss: 0.2324 - val_accuracy: 0.9020\n",
            "Epoch 29/30\n",
            "19/19 [==============================] - 40s 2s/step - loss: 0.1645 - accuracy: 0.9367 - val_loss: 0.2213 - val_accuracy: 0.9052\n",
            "Epoch 30/30\n",
            "19/19 [==============================] - 40s 2s/step - loss: 0.1654 - accuracy: 0.9433 - val_loss: 0.2455 - val_accuracy: 0.9085\n"
          ],
          "name": "stdout"
        }
      ]
    },
    {
      "cell_type": "code",
      "metadata": {
        "colab": {
          "base_uri": "https://localhost:8080/"
        },
        "id": "n1y85Nb8GYzy",
        "outputId": "41154a1d-009d-41e1-b080-d28b3d907a1c"
      },
      "source": [
        "test_loss , test_acc = model.evaluate(test_generator)\n",
        "print('test acc :{} test loss:{}'.format(test_acc,test_loss))"
      ],
      "execution_count": null,
      "outputs": [
        {
          "output_type": "stream",
          "text": [
            "4/4 [==============================] - 46s 15s/step - loss: 0.1889 - accuracy: 0.9300\n",
            "test acc :0.9300000071525574 test loss:0.18887954950332642\n"
          ],
          "name": "stdout"
        }
      ]
    },
    {
      "cell_type": "code",
      "metadata": {
        "colab": {
          "resources": {
            "http://localhost:8080/nbextensions/google.colab/files.js": {
              "data": "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",
              "ok": true,
              "headers": [
                [
                  "content-type",
                  "application/javascript"
                ]
              ],
              "status": 200,
              "status_text": ""
            }
          },
          "base_uri": "https://localhost:8080/",
          "height": 126
        },
        "id": "K3IGMNiBG7MK",
        "outputId": "20ffdd92-7b6d-4fd2-c05c-da5f32c7d1bf"
      },
      "source": [
        "import numpy as np\n",
        "from google.colab import files\n",
        "from keras.preprocessing import image\n",
        "\n",
        "fname = files.upload()\n",
        "print(fname)\n",
        "f=list(fname.keys())[0]\n",
        "img_path='/content/'+f\n",
        "img = image.load_img(img_path , target_size=(150,150))\n",
        "images = image.img_to_array(img)\n",
        "images=np.expand_dims(images,axis=0)\n",
        "prediction = model.predict(images)\n",
        "if prediction==0:\n",
        "  print('mask')\n",
        "else:\n",
        "  print('nomask')"
      ],
      "execution_count": null,
      "outputs": [
        {
          "output_type": "display_data",
          "data": {
            "text/html": [
              "\n",
              "     <input type=\"file\" id=\"files-5496647c-f59f-472a-8c6b-555a61114474\" name=\"files[]\" multiple disabled\n",
              "        style=\"border:none\" />\n",
              "     <output id=\"result-5496647c-f59f-472a-8c6b-555a61114474\">\n",
              "      Upload widget is only available when the cell has been executed in the\n",
              "      current browser session. Please rerun this cell to enable.\n",
              "      </output>\n",
              "      <script src=\"/nbextensions/google.colab/files.js\"></script> "
            ],
            "text/plain": [
              "<IPython.core.display.HTML object>"
            ]
          },
          "metadata": {
            "tags": []
          }
        },
        {
          "output_type": "stream",
          "text": [
            "Saving 1.jpg to 1.jpg\n",
            "{'1.jpg': b'\\xff\\xd8\\xff\\xe0\\x00\\x10JFIF\\x00\\x01\\x01\\x00\\x00\\x01\\x00\\x01\\x00\\x00\\xff\\xdb\\x00C\\x00\\x02\\x01\\x01\\x01\\x01\\x01\\x02\\x01\\x01\\x01\\x02\\x02\\x02\\x02\\x02\\x04\\x03\\x02\\x02\\x02\\x02\\x05\\x04\\x04\\x03\\x04\\x06\\x05\\x06\\x06\\x06\\x05\\x06\\x06\\x06\\x07\\t\\x08\\x06\\x07\\t\\x07\\x06\\x06\\x08\\x0b\\x08\\t\\n\\n\\n\\n\\n\\x06\\x08\\x0b\\x0c\\x0b\\n\\x0c\\t\\n\\n\\n\\xff\\xdb\\x00C\\x01\\x02\\x02\\x02\\x02\\x02\\x02\\x05\\x03\\x03\\x05\\n\\x07\\x06\\x07\\n\\n\\n\\n\\n\\n\\n\\n\\n\\n\\n\\n\\n\\n\\n\\n\\n\\n\\n\\n\\n\\n\\n\\n\\n\\n\\n\\n\\n\\n\\n\\n\\n\\n\\n\\n\\n\\n\\n\\n\\n\\n\\n\\n\\n\\n\\n\\n\\n\\n\\xff\\xc0\\x00\\x11\\x08\\x00\\xe1\\x00\\x9a\\x03\\x01\"\\x00\\x02\\x11\\x01\\x03\\x11\\x01\\xff\\xc4\\x00\\x1f\\x00\\x00\\x01\\x05\\x01\\x01\\x01\\x01\\x01\\x01\\x00\\x00\\x00\\x00\\x00\\x00\\x00\\x00\\x01\\x02\\x03\\x04\\x05\\x06\\x07\\x08\\t\\n\\x0b\\xff\\xc4\\x00\\xb5\\x10\\x00\\x02\\x01\\x03\\x03\\x02\\x04\\x03\\x05\\x05\\x04\\x04\\x00\\x00\\x01}\\x01\\x02\\x03\\x00\\x04\\x11\\x05\\x12!1A\\x06\\x13Qa\\x07\"q\\x142\\x81\\x91\\xa1\\x08#B\\xb1\\xc1\\x15R\\xd1\\xf0$3br\\x82\\t\\n\\x16\\x17\\x18\\x19\\x1a%&\\'()*456789:CDEFGHIJSTUVWXYZcdefghijstuvwxyz\\x83\\x84\\x85\\x86\\x87\\x88\\x89\\x8a\\x92\\x93\\x94\\x95\\x96\\x97\\x98\\x99\\x9a\\xa2\\xa3\\xa4\\xa5\\xa6\\xa7\\xa8\\xa9\\xaa\\xb2\\xb3\\xb4\\xb5\\xb6\\xb7\\xb8\\xb9\\xba\\xc2\\xc3\\xc4\\xc5\\xc6\\xc7\\xc8\\xc9\\xca\\xd2\\xd3\\xd4\\xd5\\xd6\\xd7\\xd8\\xd9\\xda\\xe1\\xe2\\xe3\\xe4\\xe5\\xe6\\xe7\\xe8\\xe9\\xea\\xf1\\xf2\\xf3\\xf4\\xf5\\xf6\\xf7\\xf8\\xf9\\xfa\\xff\\xc4\\x00\\x1f\\x01\\x00\\x03\\x01\\x01\\x01\\x01\\x01\\x01\\x01\\x01\\x01\\x00\\x00\\x00\\x00\\x00\\x00\\x01\\x02\\x03\\x04\\x05\\x06\\x07\\x08\\t\\n\\x0b\\xff\\xc4\\x00\\xb5\\x11\\x00\\x02\\x01\\x02\\x04\\x04\\x03\\x04\\x07\\x05\\x04\\x04\\x00\\x01\\x02w\\x00\\x01\\x02\\x03\\x11\\x04\\x05!1\\x06\\x12AQ\\x07aq\\x13\"2\\x81\\x08\\x14B\\x91\\xa1\\xb1\\xc1\\t#3R\\xf0\\x15br\\xd1\\n\\x16$4\\xe1%\\xf1\\x17\\x18\\x19\\x1a&\\'()*56789:CDEFGHIJSTUVWXYZcdefghijstuvwxyz\\x82\\x83\\x84\\x85\\x86\\x87\\x88\\x89\\x8a\\x92\\x93\\x94\\x95\\x96\\x97\\x98\\x99\\x9a\\xa2\\xa3\\xa4\\xa5\\xa6\\xa7\\xa8\\xa9\\xaa\\xb2\\xb3\\xb4\\xb5\\xb6\\xb7\\xb8\\xb9\\xba\\xc2\\xc3\\xc4\\xc5\\xc6\\xc7\\xc8\\xc9\\xca\\xd2\\xd3\\xd4\\xd5\\xd6\\xd7\\xd8\\xd9\\xda\\xe2\\xe3\\xe4\\xe5\\xe6\\xe7\\xe8\\xe9\\xea\\xf2\\xf3\\xf4\\xf5\\xf6\\xf7\\xf8\\xf9\\xfa\\xff\\xda\\x00\\x0c\\x03\\x01\\x00\\x02\\x11\\x03\\x11\\x00?\\x00\\xfd\\x1e\\xf1\\x07\\xc5\\xed\\x16\\xebQ]?M\\xbcVf\\\\\\xb2\\xd5-s[\\x8e\\xe2%\\x92\\xdd\\xb7\\x86\\xfb\\xe5\\xab\\xe0o\\x07\\xfcv\\xd6t\\xbf\\x13\\x9b\\xedR\\xfaf\\x12&\\xd4\\xf9\\xc9\\xafl\\xb5\\xf8\\xf9\\xfd\\x99\\xe0[[\\xab\\xa9\\xa4f\\x98\\xff\\x00\\x0f\\'\\xad~?\\xcbc\\xec$\\xad\\x13\\xd95]Ok\\x98\\xed\\xe6ec\\xfcH\\xd8\"\\xb9\\x0f\\x1bx\\xa7O\\xd0m\\xa1\\xb7\\xbcf\\x7f\\xb4I\\x87v\\\\\\xb5\\'\\x86\\xbcSo\\xac\\xe8V\\xba\\xe4\\x81\\xbfxO_\\xa1\\xaaZ\\x9bh\\xfa\\x86\\x94\\xb7\\x9a\\xc4{\\xb6\\xdc|\\x81\\x86H\\xad\\xa2sKa\\x92\\xc9j$\\x17\\x11\\xc9$\\x96\\xa0q\\x0b\\xfd\\xd2}q\\xebL\\x8a\\xfb\\xed2y\\x96rm\\x90q\\xe6\\xb7\\\\w\\x1fJ\\x8e\\xe2[u\\xcbE\\xc4-\\xf7j\\xa1\\xb3\\x9a\\xf5\\xf3\\xa5\\xc6\\xdf/-\\x85=+\\xae\\x9c_1\\x83\\x8cyO\\x9c?i\\xcf\\xd9_\\xc0\\x7f\\x1b\\xfe+\\\\\\\\[i\\xf0\\xe8/.\\x9c#\\xd3\\xa7\\xb0A\\x14O|\\x0eHlv+\\x93\\xf5\\xaf\\x9c.\\xbfa\\xef\\x8d\\xde\\x17\\xf1\\x9c>\\t\\xf1\\x05\\xac3\\\\\\\\\\xc2g\\xb3\\xbc\\x81\\xf7B\\xeb\\x9c\\x01\\xeb\\xba\\xbfI\\xb4\\x0f\\x82\\x7f\\xf0\\x9b\\xe9w>:\\xbch\\xe4\\xd3\\xc5\\xf0\\x92\\xce\\xd9\\xdc\\x07\\x12\\x80\\x14\\xf0\\x7f\\x1a\\x9f\\xe2\\x7f\\xc3\\xcf\\x11i\"\\xdb\\xfe\\x11\\xb9\\x12\\x0b\\x89&Ql\\x93!\\xc4Qm\\xe4\\xe4\\x0c\\x0ek\\xd8\\xc3\\xde2L\\xe6\\x94b~_\\xf8\\xc7\\xf6\\\\\\xf8\\xd9\\xf0\\xc7\\xc6\\x8d\\xa3\\xf8\\xb3\\xc3q\\xfd\\x9eK}\\xf1M\\x0b\\x8a\\xc8\\x97\\xe07\\xc4C\\xa3Zk\\x0b\\xa3\\xa9k\\xdb\\x92\\x90\\xfe\\xf9v\\x84\\xe7\\xaf>\\xd5\\xf6g\\xedI\\xf1/K\\xf8W\\xaf\\xae\\x97\\xf1#Pm[R\\x9a\\xd8\\x08\\xe1\\xb7\\x1eb\\x8c\\xe7\\x1c\\x9e\\x95\\xe4^\\x13\\xfd\\xa0\\xbc/\\xa7\\xe9\\x8b\\xa7\\xc9\\xf0\\x86K\\xbb\\xa6\\xbd!R\\xe2\\xd1HL\\x8e0s\\x8f\\xca\\xbd\\x1efA\\xe3\\x9e$\\xf8\\x13\\xf1S\\xc3\\x16\\x0fqw\\xe16\\xbbH\\xf1\\xbd\\xed%I\\x02\\x83\\xea\\x01\\xcdq\\xfa\\x9d\\x96\\xa1\\xa3H\\xba~\\xb9\\xa5\\xddF\\xcd\\xc8\\x17\\x11\\x11\\x8f\\xa6k\\xe9\\xcf\\x0e|H\\xf8\\xd1\\xf0\\xef\\xe2\\x04\\xda\\xf7\\xc3\\xff\\x00\\x01\\xd9\\xc1}\\x7f \\x166\\xd7\\xd8\\xf2\\xd7 g#<p\\rG\\xfbb\\xbf\\xc4\\xcf\\x1b\\xdaX\\xea_\\x13-t{k\\xa9Q\\x0c\\x89\\xa70\\xe3\\xaf\\xa5k\\x05\\xcc\\xb5\\x03\\xe6\\xfb\\x18.\\x1ea\\x1e\\xa1o\\xba\\xd5c\\xca\\xc6[!\\x8f\\xa9\\xaa\\x92\\xde\\xdc5\\xd2j\\x12F\\xdeJ\\xea12Z\\xe7\\xf7k\\xc8\\x1c\\n\\xea4\\xff\\x00\\x85\\x1a\\x86\\xf6\\xd5-\\xf5e\\xfb(\\xfd\\xdb\\x07\\x9cgw\\xd2\\xb1\\xbcg\\xe0-C\\xc2\\xad\\x0e\\xb16\\xa0\\xb2[=\\xc4glR\\xee\\xfe!\\xd8U\\xa8\\x01\\xfbe\\xfb9|&\\xf1%\\xe7\\xc1?\\x04|r\\xf8W\"\\xb5\\xe2\\xdb\\x08\\x9e\\xc2\\xe5\\xf1\\x06\\xdeA8\\xf5\\xafD\\x87\\xe2\\xd7\\x8e>\\x1d|T\\xba\\xb7\\xf1v\\x9a\\xf7\\x16\\xab\\x08\\xf3,m9\\x0f\\x90>\\xe8<du\\xfa\\n\\xcf\\xff\\x00\\x82zj\\x11\\xea\\xbf\\xb1\\xbf\\x82\\xfe\\xcf4\\x88?\\xb3]\\xf6\\xb0 dJEzG\\xc5\\x8f\\x87Z\\x87\\xc4\\xaf\\x0e\\xf9~\\x1e\\xbcK\\x1dS\\x7f\\x99oxN\\xd6R8\\xea9\\xe4qZU\\x8e\\x96#\\xdd\\xa9\"\\xf7\\xc3\\xbb\\xbf\\x03\\xf8\\x86+\\xbf\\x16\\xf8Ecyn\\x9b\\xfd:9\\x10e\\x07\\x1cJ;\\xf6\\xe9\\xed^7\\xfb\\\\\\xfe\\xca\\x11\\xf8\\xf6\\xc6_\\x8a\\x1f\\n\\xec\\xe3\\xfe\\xd0\\x89\\x80\\xbc\\xb5\\xb5\\xc4f@88\\x1e\\x9d+\\x88\\x93R\\xf1\\xe7\\xc0?\\x89\\xd0\\xdc\\\\\\xb4\\xd1jH\\xbf\\xe9\\x9az9\\xf2o\\x90\\xff\\x00\\x11?t\\x9f\\xa9\\xcf\\x15\\xf5\\x1f\\xc3\\x7f\\x88Q\\xfcD\\xf0\\xad\\xb7\\x8e,t\\xb5\\xd3\\xcc\\x88C\\xa0A\\xc6\\x0e\\x0e@\\xcfZ\\xf3*QU4g~\\x1a\\xa4\\xe8;\\x9f\\x10\\xf8V\\xc2\\xf3A\\xd0\\xa4\\xd1<q\\xa7\\xb1\\xd3\\x97\"{\\x08W\\xe6\\xb3n\\xd2`\\xf1\\xc9\\xee=k\\x8f\\x96\\x1b\\x0f5\\xbc\\x8b\\xc96n;>n\\xdd\\xab\\xed\\x7f\\xdaC\\xe0\\x14\\x9f\\x11t9\\xfcM\\xf0\\xc6\\xd6\\x08u9\\xa2\\xdbr\\xbc \\xba\\x03\\xa8?\\xcf\\x9fJ\\xf8\\xa6\\xf3\\xe0/\\xc4{{\\xb9`{9\\xb7$\\x8c\\xa7\\x86\\xea\\x0e=+\\xc9\\xab\\x84\\x92\\x91\\xf58\\\\\\xc6\\xf4\\xcf\\x94\\xedu\\x195\\x1b\\xd9#\\x8c\\xedx\\xf8\\xf9\\xab\\xd1|\\x1d\\xa9j\\x91h\\x16r^1d\\x89\\x88\\xces\\xde\\xb8?\\x02K\\xa1\\xf8\\xb5d\\xbc\\xb0\\xbc\\x8debr\\x8d\\xc3Wsa<zG\\x87\\xbf\\xb3\\xee\\x9b\\x85|\\xae9\\xc5yX\\x8arP\\xd0\\xf0\\xa5S\\x9d#\\xda#\\xf1\\xcd\\xe5\\xaf\\x83\\xad\\xee-Y\\x82-ix\\x7f\\xc7v\\xfe$\\xb0\\x069?y\\x1f\\xdeZ\\xf2}{\\xc5Q\\xc3\\xf0\\xcbn\\x9fq\\xb8\\xc6Fv\\xf1\\xd4\\xd6G\\x81<k\\x1e\\x91\\x1c\\xb6\\xd7\\xb7\\roq\\x12y\\xb719\\xfb\\x8b\\xf8z\\xf1\\xf9\\xd7\\x1d\\x18U\\xe7\\xd4*\\xfc\\x07\\xd3\\x1e\\x06\\xd0u\\xcf\\x89:\\xec>\\x0f\\xf0~\\x9e\\x97\\x97\\xcc\\xa6G\\xb7\\x9b\\x84X\\xc7V\\xc9\\xe35\\xe9\\x13|4\\x8f\\xc3\\x9e\\x10\\xbc\\xb7\\xf0\\xbf\\x89\\x14\\xeb\\xd3L\\x12\\xe5\\x92_\\xf5``\\xb2\\x83\\xf4\\x15\\xc0\\xfc\\x1e\\xf8\\xa7\\xf0\\xf7H\\xf8[\\xa6x\\xdb\\xc4\\x97\\x97Z\\r\\x9e\\xad\\xe7Gc\\xa9\"~\\xfaI\\x82\\xb6\\x13\\xe4\\xc9\\xdav\\xd7\\x85|\\x07\\xfd\\xa2\\xfcQ\\xe2\\x8f\\x8b\\xbf\\xf0\\x8fk\\x13]Y\\xc3\\x0e\\xa14\\xa1\\xae_k<x dg\\xafz\\xfa\\n\\x14]\\x8f.g\\xd1>\\t\\xf1\\xae\\xb9\\xe2\\xcf\\x10k\\x1e\\x1b\\xf0\\xcf\\x80m`\\x8fN\\x87zM\\xac\\xa0\\x17\\x12\\xc81\\x9d\\xb8=\\xcdg\\xe9W\\x9f\\xb67\\xc5\\x95\\xbe\\xd2\\xee\\xbc;e\\xa7i0\\x8f.\\xce\\t%\\xdb%\\xcc\\x81\\x86@\\xf6\\xc6O>\\x95\\x1f\\x88>/\\xfc\\n\\xf8=m7\\xc4O\\x88\\x1e \\xb9\\xbec8\\x8e\\xc6\\xe2\\xe5\\x83\\\\JN:\\x13\\xfc#\\x91\\xf8V7\\x8d\\x7f\\xe0\\xa6\\x9e\\x19\\xd7\\xefW\\xc2>\\x0f\\x8d?\\xb4Z\\xd3\\xfd\\x0fQ\\xda\\x14D\\x98\\xea\\x0es\\x9e\\xd5\\xea\\xd3\\xa6\\xd4ns\\xcc\\xf9\\xd3\\xf6\\xa9\\xf0?\\x8b<\\x1b\\xf1\\xd5\\xbc5g\\xe0\\xfb\\x1dSW\\x9a\\xcd&\\xbc\\xd15\\x10\\x1b\\x00s\\x95\\'\\x8e\\xde\\xb5\\'\\xc3O\\x89:\\x7f\\xc5\\xaf\\x84\\xde4\\xf8sy\\xf0\\xbe\\xdbH\\xf1\\x06\\x9d\\xb6\\xf6\\xcd\\xe4\\x8e$\\xf26\\x94\\\\\\x03\\x9f\\xafOZ\\xb5\\xafC\\xe3\\xdf\\x8a\\xd7\\x12M\\xe2\\x0f\\x10i\\xba\\x97\\x89\\x83\\xb9\\x8bZ\\x86\\xe0\\xfd\\xa2(\\x8ep\\x0c\\x8f\\xcf\\x19\\xaf\\t\\xd4>\\x02h\\xba\\x0e\\xa9\\xae7\\xc6\\x0f\\x8e\\xda\\x85\\x85\\xe2\\xcc\\x03\\xdd\\xd9\\xdeI\\xb2A\\xc1\\nN2kxs\\x93\\xcc\\xce\\x1f\\xe3G\\x8e?\\xe1 \\xb6\\x9bG\\xb7\\xf1\\xc6\\xaf\\x17\\x8c$\\xb8\\x02(\\xe2v\\xf2\\xd8/`\\xc3\\xfd\\x91^\\x17\\xe3\\xadC\\xe3\\x06\\x9fm?\\x8d/.\\xef\\xaf,R\\xf9-nek\\x82\\xc4\\x1c\\x02x5\\xf5G\\x81\\xfe4\\xfc\\x13\\xf8w\\xab\\xdb\\xd9\\xfc@\\xd5,.4K;\\x99e\\xb7\\xf1\\x0bY\\xbc\\x8e\\xa0\\xc2\\xca\\x03q\\xb8\\x92\\xdcp;\\xd6\\xff\\x00\\xc1\\x7f\\x04\\xfc1\\xf8\\x9b\\xfb$x\\x87\\xe2u\\x9e\\xa4.#\\xd4<W$\\xbau\\xa3\\xb0W1\\x85\\x08>W\\xe4r3\\xf4\\xae\\xdaqn:\\x93\\xcexW\\x87\\xff\\x00\\xe1]\\xeb\\x9e\\x0c\\x87\\xe2\\r\\xbc\\x97ri\\x91\\xc2 \\xd4\\xd5\\xfe\\xf4w]x\\x1e\\xe3\\x03>\\xf5\\xc7kp\\xeb\\x96:\\xf1\\xf1f\\x95ks\\x06\\x90\\xd3\\xaa\\xa5\\xb0~\\x12N\\xcb\\x8fO\\xe3\\xaa^2\\xd0<i\\xe1?\\x892xn\\xfbT\\xfb.\\x92\\xb2\\x82\\xab\\x04\\xb9\\xb7r{\\xb0\\x1d\\xc6\\x7fJ\\xf4\\x1dG\\xc3\\x11\\xc5\\xe1\\x1b\\xfbo\\t\\xf8\\xb1n\\xff\\x00\\xb2a\\r;\\xc9/\\xcb2\\x9c\\x12T\\x1ew\\x0c\\xe3\\xe8*\\xf9\\n\\xe6g\\xd7\\x1f\\xb0\\x87\\xfc\\x15\\xcf\\xc7\\x9f\\xb2\\xf6\\xaf\\xa7\\xfc-\\xfd\\xa3#\\x8e\\xeb\\xc10[\\x9f\\xb3\\xdeY\\xfe\\xf5\\xa2-\\xd3\\x8c\\xf1\\xd7\\xd2\\xbe\\xf3\\xd4\\xff\\x00j\\x8f\\x0c\\xf8\\x9fT\\xd1?h\\x0f\\x81\\xbe0\\xb8\\xd5\\xb4+\\x886\\xc9n\\xf2\\x1ez\\x82\\xa5}\\xab\\xf0\\x12Xmu(t\\xff\\x00\\x16\\xe9vwRY\\xdc\\xdb:\\xdf\\xc5\"\\xfc\\xb1\\x90\\xc4~|f\\xbdS\\xf6 \\xfd\\xaf\\xf4\\xbf\\xd9\\xa3\\xe3\\xf5\\x82\\xf8\\xbb\\xc6\\x1a\\xa5\\xe7\\x80\\xee k]J\\xc67b\\xb6\\xac\\xfd$\\n\\xf8\\x1c6:R\\x94XBg\\xef\\x8f\\x86\\xfc}\\xf0o\\xf6\\x97\\xd0\\xef<\\'\\xb4.\\xa1\\xb7\\xccKi\\xa1\\xc2\\xc4\\xe3\\x19 \\xd7\\x9ak:\\x9f\\x8c?f\\xbf\\x88\\xd66\\xba?\\x89\\x1a\\xe6\\xce8L\\x97V\\xcb1&H\\x899\\xe3\\xda\\xa8|\\x1d\\xd1\\xf45\\xd3<\\x15\\xf1\\x13\\xc1\\xba\\x84:\\x97\\x86\\xf5k\\xa7\\x96\\xd7X\\xd3\\x0f\\xcdq\\x90\\xdf\\xbal\\xe0\\xe4\\x1e\\xb9\\xe3\\x8a\\xf4O\\xda\\x1f\\xe0\\x9f\\xfc,\\xddn\\xdfZ\\xf0=\\xc4k\\xe2\\xe8m\\x82\\xdb\\xda\\xcd\\xf2\\xc74\\x189\\x00\\xfa\\xfdk\\xce\\xc4\\xa7\\x04\\xacz\\x14%\\t^\\xe7\\xa4|%\\xf8\\xcb\\xe0_\\x8dZZ\\xf8\\xb3\\xc2\\xb2,6,\\xc6\\x07\\xb5\\x98m\\xff\\x00H\\x03\\xa9\\x1fZ\\xe1\\xf5\\xdd{\\xf6\\x8b\\xb3\\xd6\\xef--\\xf5?\\x0e\\x98\\xe2\\xba\\x91#\\xf9\\xcf\\xdd\\x0c@\\xaf\\x19\\xf89\\xa1^h:\\xb7\\x89<\\x0b\\xe3\\x01u\\xa0\\xdeZ\\x08\\xe51\\xee\\xc2\\xac\\x9ebr\\nq\\x828\\xe3\\xd6\\xbd\\x8e\\xfd\\xb5\\x16\\xbe\\x99\\xa3\\xd0\\xf4\\x96S+\\x15o+\\xa8\\xc9\\xe6\\xb7\\xa3\\x1fi\\x0b\\xb2gQSvG\\xe4\\x06\\xaf\\xf0SX\\xbf\\xbb\\x9a=\\x0eF\\xb3\\x93?z\\'\\xdb\\xfc\\xab>;o\\x8d?\\r\\x04:=\\xe4?o\\xb1_\\xf9ld\\xdc\\xc4\\x1a\\xfa\\x1fM\\xd5|+\\xe2=al\\xfc?6\\xeb\\xdb\\xbf\\xde%\\xb3\\xae\\x14\\n\\xe8\\xfcG\\xe0\\xcd,i/&\\xb9\\xa7\\xc1ku!\\x01\\x02\\xa0\\xdb^<\\xb0\\xfdX\\xa9\\xe2--O\\x9en~%h\\xf7\\x9e\\x17\\xb8\\xd3o\\x0b[\\xdc\\x94\\xfb\\x84c\\x07\\xb5t_\\xb2\\'\\x86\\xf4\\x7f\\x18|V\\xd2?\\xe1xj_c\\xf0\\xdc0\\xcbs\\xacj\\xd2\\xb7\\xc9.\\xdd\\xde\\\\Y\\xef\\xd1x\\xad\\xaf\\x8b\\x7f\\xb3\\xd6\\x97\\xafx\"k\\x88l\\xe0\\xb7\\x9d\\x93p\\xb9\\xb7\\\\\\x12\\x01\\xcf&\\xbe,\\xf8\\xe1\\xf1+\\xc6?`_\\x84\\xfa?\\x8a/_I\\xb3\\xb9\\r5\\x8f\\xda\\x08\\x88\\xb8\\xef\\x8aX|\\x1ce3z\\x98\\xa8N6\\xb1\\xf67\\xed\\x07\\xfb^\\xe8>0\\xfd\\xa1\\xa0\\xb7\\xf8o\\xff\\x00\"_\\x85a\\'F\\xd2m#\\xd94\\xf2\\xed1\\xee\\x0b\\xf7v\\xe5\\x8f\\xbdyw\\x82\\xbcG\\xa7\\xfch\\xf1\\xd6\\xa9\\xe2\\xcf\\x8f\\x1f\\x10\\x9b\\xc2\\xb3Y\\xc4bG\\xb3vK\\xa0\\xc3\\r\\x19,\\x060F\\x01\\xe6\\xbeM\\x97\\xe2\\xe7\\x86\\xfc\\x1dr\\xda\\x96\\xb9\\xe3\\rJ\\xd6\\xf2\\xce?\\xf4y\\xad\\xa49\\x8d:`Vh\\xfd\\xa65?\\x89^\\x14\\xbe\\xf0\\x1f\\x84,\\xec\\xf5\\xab\\xcd^M\\xbfj\\xd6\\xe1-+ #\\x8d\\xdf\\x85z>\\xc24\\x9e\\xbb\\x1c|\\xdc\\xf2\\xb2=\\x8b\\xf6\\xd5\\xfd\\xb1>\\x1d\\xf8\\xdb\\xe1\\x1d\\xc7\\xc3\\xads\\xc4\\x17Sx\\xbb@\\xd5\\x12=!\\xed2c\\x9a\\x0e\\xa1\\x8bz\\xf2k\\xe7_\\r\\xfe\\xd0\\xba\\xd6\\x91\\xa8\\xad\\xe6\\xa9\\xabM$\\x90\\xc4#C\\x1c\\xc7\\xe5^\\xbe\\xb5\\x97\\xe3\\x9f\\x82z\\xc7\\xc3\\xebK{\\xddC\\xc2\\xfa\\x9b\\xea\\x05\\xfex\\xa1\\xc3B\\xa8k\\x9c\\xf1\\'\\xc3\\xfdR\\xfa5\\xbc\\xf0\\xff\\x00\\x84\\xda\\x12\\xe9\\x89\\xd3\\x00&>\\x83\\xbdv\\xd1\\x96\\x1e]I\\xabB\\xafc\\xd4u\\xdf\\xda\\xef\\xc5\\x96\\xf7p\\xeb\\xde\\x07\\xd7/-^\\xdf\\xfe>KO\\xb7\\xcd\\x1d\\xc7^k\\'\\xc7\\xdf\\xb5\\xd7\\x8d>4\\xc7\\x04w\\x9b\\xa1\\xb3\\x8d\\x81\\x98H\\xf8g#\\xd7\\x9a\\xf1\\x1f\\x10xsZ\\xd3\\xd0[\\xea\\x16,\\x15[\\xe4F\\xe8\\xa6\\xb3\\xd2=R\\xd4\\x7f\\xa4F\\x18{\\x9a\\xf4i\\xd1\\xa3%t\\xce\\x19\\xc6\\xac7G\\xd2\\x16\\x9f\\x13t?\\x88\\xba%\\xbd\\xaf\\x8b5\\xc94\\x1d\\x07Gp\\xf7\\x976\\xb9\\x138\\x1f\\xdd\\x039\\xc95C\\xe2w\\xed#\\xa3\\xd8\\xdf\\x19>\\r\\xeb\\x1a\\x94:\\x1c`\\x08\\xaeo$\\xc2\\xca\\xdbp~Ps\\xd7\\xda\\xbc\\x12\\rsP\\x8eh\\xe4[\\x89\\x14G\\xc2\\xe1\\xbav\\xa8\\xda\\xf6\\xdc\\r\\x91\\xc6\\xaa7g\\x8f\\xce\\xb4\\xf6q\\xe8d\\xaaI\\x9fI|\\x19\\xf8\\xc9ka\\xf0\\xfemC\\xe2\\xa6\\xb5\\x0b\\xd8\\xdc^4kon\\x8c\\xd2IrFU\\x88=\\xb1\\x8ek\\xb9\\xd5\\xbe \\xfc+\\xd3\\xff\\x00g\\xbf.\\xde9\\xae\\xbcu{9\\x8a\\xd6\\xd2\\xdd\\x06\\xd3\\x16\\xed\\xdf1\\xff\\x00v\\xbe@\\xb1\\xf1\\x06\\xa1\\x14\\x82\\xe1o$\\xf3<\\xcc\\xee\\xdf\\xcfLV\\x95\\xa7\\x8du\\x1b-z=R\\x19\\x1ddS\\xb8\\xca\\x1f\\x9c\\xf4\\xcf\\xe5K\\xd9\\x95\\xcf#\\xed\\t~ X\\xf8c\\xf6/\\xd2t/\\x1aiv\\xf6\\xfa\\x96\\xa1\\xafy\\xdalQ \\xf3^>W\\r\\xed\\xb8\\x1a\\xc1\\xf8\\x9f\\xf0\\x17\\xc5\\x07\\xe1\\xbd\\xaf\\xc4\\xcf\\x18>\\x97k\\xf6\\xa6\\x11XXA \\xdc\\xe7\\xaeX\\x7f\\xbb\\x9a\\xf9\\xc7V\\xf8\\xbf\\xadx\\x83V\\xb7\\xb8\\xbe\\x91\\xa6kX\\xc2[<\\xaf\\x9f(u\\xc0\\xf4\\xe6\\xb44o\\x8c\\x1a\\xa4z\\xc5\\xd5\\xc7\\x8c/&\\xd4 {Q\\x1d\\xb5\\xbd\\xcc\\xa5\\xd5d\\xc8\\xc7\\x1fJ\\x99S\\xe6\\x1cgc\\xf4o\\xfe\\x08\\x89\\xfb~x\\x93\\xf6n\\xf8\\xc5g\\xfb?\\xfcX\\xd5\\xae5\\x0f\\x85~&i?\\xb1|\\xc72\\xbe\\x95}\\xc7\\xf0\\x93\\xf2)*y\\x1f\\xde\\xaf\\xdb\\xcd\\x7fG\\xb3\\xf1\\x86\\x89\\x15\\xc5\\xc6\\xb9\\x1a\\xc8\\xa8\\x1a\\rSM|\\xb2\\xa1\\xe4\\x0c\\x8ez\\x1a\\xfeW<\\x05\\xf1kN\\xd1\\xb5\\xcbo\\x14Y\\xaf\\x95\\xa8)\\xc2\\xdb\\xc61\\xbcv\\xcd~\\xd0\\x7f\\xc10\\x7fj\\xcf\\x11j\\x7f\\x014\\xdf\\x8c\\x16Z\\xe5\\xcd\\xf2\\xe9\\xf2I\\xa6x\\xb3\\xc2\\xab.\\xe9brw,\\xb1)8\\xc6\\xd3\\x1f9\\xf5\\xae:\\xf0\\xf7}\\xe3\\xb6\\x8c\\x1dW\\xee\\xbb\\x1fkx\\xe3E\\x8e\\xc7\\xc2\\xcf\\xa3\\xf8\\xc2\\xc6;\\x86\\xb8\\xc0\\xb1\\xd5QwK)\\x07 1\\xeb\\xda\\xbc\\x86\\xe9>$\\xdb\\xdc\\xc9n\\x93\\xcb\\x88\\xe4*?zz\\x03\\x8a\\xf6\\xcf\\x87\\xfe2\\xf0?\\xc7\\xdf\\n}\\x9f\\xc1z\\x87\\x9d\\xf6{\\xbd\\xcfmx6\\xddG\\x81\\x93\\xbb\\xdb\\x9e\\xd5\\x99\\xad\\xdaxf\\xdfZ\\xbc\\xb7\\xf2\\xef>K\\xa9\\x17\\xeez1\\x15\\xcdI\\xc5G@\\xab\\n\\xaa[\\x1f\\x99\\xbe\"\\xf8!\\xe3f\\xf8\\x9d\\x7f\\xacxvI,\\x96\\x18\\xb6\\xd9M\\x11\\xfb\\xc2\\xb4\\xbc\\x0f\\xe2\\x1f\\x89\\xbf\\x0b\\x0e\\xdf\\x89\\x1a;x\\x86\\xd4\\xe7s\\\\?1\\xff\\x00\\xdfY\\xaf\\xa2o\\xf4\\x98\\xf7}\\xb3\\xec\\xc9\\xb9\\xb8\\xf9Es\\xfa\\xf6\\x85%\\xbb\\xf9\\xc2\\xd5$S\\xc3\\xc6\\xe9\\x9a\\xca\\xb5\\x14\\x91\\x9d)s3\\x8b\\xbd\\xf8\\xa3\\xe0?\\x10\\xfc8\\xd6\\xf5\\xad\\x0e\\xe1#k[7/\\xa6\\xc8\\x98\\x03\\xb7\\x07\\xf1\\xaf\\xc7\\x0f\\x88\\x9f\\x11.\\xa4\\xf1\\xa7\\x895\\x89.\\x0c1\\xb5\\xeb\\x88T6r8\\xaf\\xd5?\\xdb\\x13\\xe0\\x9e\\x9e\\xbf\\x05\\xbcA\\xf1\\x1bM\\xf1\\x04\\xdal\\xd6\\xf6`\\xfd\\x9a\\x1f\\x95_\\x909\\xaf\\xc6\\xff\\x00\\x12j?n\\xb8\\xb9\\x16\\xff\\x007\\x97;\\x83\\xbb\\xf8\\xfa\\xd4\\xe1i\\xfb\\xe6\\xe3O\\xda> j0Y\\xdbF\\xce\\xb7|\\xbd\\xc9\\xe8\\x00=1_q\\x7f\\xc19>\\x03x_I\\xd6c\\xbc\\xf1\\x87\\x85\\xf4\\xdb\\xe8\\xe1\\xcf\\xd9\\x9e[`K\\x1e?\\xfa\\xf5\\xf1\\x7f\\xc3\\rn\\xf3\\xc3\\xf6I\\xe74dH\\xc5\\xc4\\x0c\\xbc\\xfaW\\xd8\\x1f\\xb0\\xef\\xc4\\xcb\\xcdO\\xc4Q\\xd9\\xdb\\xcd\\xf6\\x1d\\xb9;\\x95\\xb3\\x9e\\x95\\xc3\\x9e\\xcexzNQ=,\\xb7\\x0f\\xcfV\\xec\\xfdb\\xf8{\\xf0\\xaf\\xe0}\\xdf\\xc3\\x99W\\\\\\xf8U\\xa0\\xdf}\\xb0lx\\xa7\\xd3\\xd4\\xb4c\\xd4\\x13_\\'~\\xd5\\x7f\\xf0O\\xcf\\x85~\\x17\\xb3\\xd4|i\\xe0=R\\xda\\x18\\x1f\\xe7:T\\x16\\x81|\\xb3\\xf5\\xafh\\xf0\\x9f\\xc5u\\x9bM\\xfe\\xc3\\xb8\\xd4\\x1b\\xcbX\\xb3\\xb9[\\x1d\\xab\\xc4?h\\xff\\x00\\x8d\\x10\\xdb%\\xee\\x8fj\\xcc\\xd1:\\x00]\\x9f\\xad|^\\x17\\x19\\x8a\\x95K\\xa6}\\x87\\xd5p\\xea\\x95\\xda>;\\xf1\\x07\\xc1\\x7f\\t\\xf8\\xe3I\\x97C\\xfe\\xcf\\x89f\\x8al\\x19\\x95\\x06x\\xaf\\x1f\\xf8\\x99\\xfb\\x10\\xdc\"K}\\xe1\\xfb\\xc9f\\xe4\\x15\\x8fh\\x02\\xbd\\xbe\\xe3X\\x8d5\\x19$\\xb2\\x90\\xa8\\x91\\xf2p\\xd5\\xd0hZ\\xf3\\x16\\x16rH\\xac\\xa3\\xfb\\xeb_e\\x83\\xc6\\xd5\\x84=\\xe3\\xca\\xc4e\\xf4j\\xfc\\'\\xc0\\x9e%\\xf8;\\xe2O\\x08\\xcb%\\xad\\xe6\\x97&\\xe1\\xed\\x9a\\xca\\x87\\xc1\\xba\\xa3\\xbe\\xdf\\xec\\xf6\\xe7\\xda\\xbfFu\\x8f\\x08h~\"\\x84\\xad\\xe5\\x8d\\xbe\\xd6\\xfb\\xcd\\xe5\\x0c\\xd77\\xa8\\xfc\\x0e\\xf0\\xbc\\xbf\\xbc\\xb7\\x86\\x15\\xff\\x00\\xb6B\\xbd*Y\\xa4-\\xa9\\xe6K(\\x8cd|\"~\\x1dj\\xee\\xdf5\\xbbF\\xd8\\xf9G\\xadG\\'\\x83u\\x8bK\\x16\\x8f\\xec\\xad\\xe7g c\\xb5}\\xdd\\xa4\\xfc\\t\\xf0\\xa3L~\\xd9\\n<\\x83\\xa7\\xee\\xc7Jn\\xab\\xf0\\x03I{\\x8f\\xf4=>2\\xbf\\xf5\\xc8V\\xbf\\xda\\x91\\'\\xfb&\\'\\xc0\\xcd\\xa7\\xea\\x0bo\\xf6\\x8f\\xec\\xf6U_\\xbc\\xd5^\\xdcj\\x17\\x12\\xaf\\x97o#\\x1d\\xd8\\xc9\\xfe\\x1a\\xfb\\xae\\xe7\\xf6e\\xf0\\xb9\\xb6+%\\x9a\\x8f\\x9b$yb\\xabK\\xf0\\'\\xc0\\xf6\\x9asX\\xc7\\xa5\\xc7\\xe6/;\\xfc\\xa1YT\\xcda\\x19X?\\xb1%\\xc9\\xcc|\\x8d\\xe0\\xf7\\x9e\\xcf[\\x87\\xed\\x9f\\xeb?\\xe5\\x94\\x8d\\xda\\xbe\\xf8\\xff\\x00\\x82r|h\\xf1W\\xc2\\x1f\\x89zT\\x9a\\\\\\xc6\\x13\\xab#\\xc5\\xa8\\xb9\\x97>zc\\xfd`\\x1d\\x8f\\x00s\\x9e\\x95\\xf2\\x0f\\xed\\x0b\\xf0\\xe2O\\x01\\xea\\xb1\\xeb\\x16(UU\\x86\\x17n+\\xaa\\xfd\\x8d\\xfe2Y\\xe9\\xbf\\x1a\\xb4;\\xcds&\\x15\\x93c\\xee~\\x16\\xbd\\x0fk\\x1a\\xf4.\\x8f\\x17\\xd9O\\x0f\\x8a\\xb1\\xfb\\xb1\\xe1?\\x14h\\xfa\\xbd\\xf0\\xd6<\\'\\xaf6\\x81\\xae\\xd80\\x97\\xce\\xb6<\\xde)\\x1f\\xf2\\xd3\\x18\\xceI\\xc7\\xe1]\\xe7\\xfc5o\\xed4\\x9f!\\xf8=gpG\\x1fh\\xf3\\x87\\xef\\x7f\\xda\\xfcz\\xfe5\\xe2\\xdao\\xc3\\xcd\\x1f\\xc6Z\\r\\x8f\\x8f<\\x07\\xac\\x1d\\xd7\\x16+\\x98\\x91\\xfd*a?\\xc4\\xebq\\xf6q\\xac7\\xc9\\xf2\\xf7\\xed\\xc7\\xadxu\\xab\\xbar\\xb2>\\xef\\x0b,\\x15J\\t\\xc9\\x1d\\x1d\\xfd\\xc4\\xf6\\xb6\\xcb\\xf3|\\xaa\\xd9\\xf9\\xab\\xa2\\xf0\\x05\\xa6\\x87\\xa8Z\\xdcx\\xbb\\xc7\\x10\\xb2h60\\xef\\xd4\\'\\x87\\xe5e\\xe7\\x03\\x07\\xf1\\x15\\xca\\xeaS}\\xba\\xdb\\xcb\\xaes\\xf6\\xa0\\xf8\\x9f\\xa8|7\\xfd\\x95c\\xf0\\x9e\\x85n$\\xb8\\xd5.\\xc4\\x97p\\xb3c\\xcc\\x8c\\x921\\xf9\\x81Y\\xe7x\\xd7\\x83\\xa3\\xcds\\xe52<\\x04q\\xd5\\xb9\\r_\\xf8)W\\xc2\\xcf\\x80\\x7f\\x19?\\xe0\\x9c~0\\xf8\\x91\\xf0\\x0b\\xc6\\xb7R\\xde\\xda\\xdbFd\\x83\\xce\\x07\\xe4\\x13*\\x91\\x8e\\x0e}\\xeb\\xf0\\x0c\\xf8F\\xe3\\xec?l\\x93\\n\\xd6\\xf3:\\xce\\x81yn\\xb5\\xf77\\xc7\\xb9?h?\\x81\\xde\\x04\\xb8\\xd4\\x16\\xde\\xebI\\xd1|M\\x18\\xff\\x00\\x89n\\xf6X\\xe5\\x8c\\x9e\\xe3\\xea\\xb9\\xe9_&j\\x1e\\x1c\\xb8\\xd5u(d\\xb3\\x91\\xb7^\\xbe\\xd7\\x8d\\x06r\\xe4\\xe2\\xb1\\xca\\xb3(\\xe2h\\xf3u=l\\xcf%\\x8e\\n\\x7f\\x16\\x87\\x15\\xf0\\xff\\x00\\xc2\\x1e\"\\xf1f\\xa6\\xb6~\\x15\\xd0\\xe5\\xbd\\xb8y\\n\\xc7\\x1a\\x8c\\xb0Oj\\xfd/\\xff\\x00\\x82r\\xff\\x00\\xc1=\\xbcue\\xa5G\\xf13\\xc7\\x9a\\x1d\\xd4V\\xed\\xbcy\\x13\\x0e\\x87\\x8cu\\xaf\\xb3\\xff\\x00\\xe0\\x87_\\xf0I?\\x87\\xff\\x00\\n\\xbe\\x0ci\\x7f\\xb4W\\xc4\\x8d(_\\xeb\\xba\\x94\\x92\\xbd\\x9d\\xad\\xed\\x9a\\xedHO\\x03 \\x8c\\xf5\\x06\\xbfB\\xe7\\xf8U\\xa3\\xdc\\x96\\xb7\\xbc\\xb1\\xb5\\xb1\\xb5a\\xc40\\xc6\\xaa\\x82\\xb8slELG\\xee\\xeea\\x85\\xc5\\xd0\\xa0\\xf9{\\x1f\\x98_\\x11\\xbe\\x1fiv~\\x1f\\x97C\\xd2\\xee\\x16\\x0b\\x86_\\xbe\\x96\\xdf0\\x15\\xf3\\x8f\\x88\\xbe\\x0b\\xdck\\xb3I\\xe0\\xdf\\xed\\xc9\\x1e\\xeaW2,\\xb3B~Q_\\xb6\\xb2\\xfe\\xcf\\x7f\\x03\\xf5\\x0b\\x83q~\\xbaiu\\xeb\\xb8\\xc7^[\\xf1\\xdf\\xe0\\xf7\\xec\\x83c\\xa7K\\xa7\\xdc\\xbe\\x9f\\x15\\xec\\x84*MlSr\\xf7\\xeb^V\\x17\\x03Z\\x9c=\\xa1\\xdb\\xfd\\xadN\\xac\\xf9\\x11\\xf8Q\\xe3/\\x85\\x9a\\x97\\x83|c7\\x83\\xf5\\x0by\\x03D\\xbb\\xfe\\xdcW\\xe4o`?\\xfa\\xf5\\x1e\\x9f\\xa75\\xb7\\xcb\\x1c|\\x0e7\\xb7S_k\\xfe\\xd6\\xd2|3\\x99d\\xf8~\\xdal\\x02\\x1bW\\x0fo\\xa8 \\x1ec\\xfb\\x13_5K\\xe1\\xed>\\xe2\\xe1\\x9a\\xcdW\\xca\\xcf\\xc9\\x8a\\xf5c7\\x1age:\\xca[\\x1c\\x9c\\x11H\\xb1\\xeeVb\\xc3\\xee\\x8e\\xc6\\xacZ^H\\xf9\\x8e\\xe2\\xddG\\xfb\\xa2\\xbaF\\xf0\\x86\\xe5cn\\xdf?m\\xd5\\x96\\x9e\\x1d\\xbe\\xb7\\xbde\\x93\\x18\\xfaV1\\x9d\\xf6;!\\xcb5y\\x14\\xed\\xee\\xa3\\x86s4}\\xbf\\xbdZ\\x96\\xda\\xceX3\\x9ezU]GH\\xdb(\\xed\\xf2\\xf6\\xac\\xf9\\xec\\xe4\\x80\\xff\\x00\\x17\\x1e\\x8bU\\xcc\\xcbQ\\xa6jk\\xfa\\xa7\\xda\\xff\\x00\\xd5\\xc6\\x8av\\xf4AX\\xed2\\xc6ZI\\xa1\\\\\\x11\\x8e\\x95\\x0bO lrind\\xf3m\\xb6H{\\xd7\\x1c\\xa77Y]\\x9b}\\xae^\\x87\\x82~\\xd8\\xb76m\\xa5/\\xee\\xc7\\xde\\x15\\xe0~\\x0f\\x94DYm\\xe4\\xfb?\\xcc\\x1d%\\x1f\\x7f9\\x03\\x83^\\xe9\\xfbb$\\x7f\\xd9k\\xc7q\\xd2\\xbc7\\xc10\\x9b\\xdb\\x8d>\\xce\\xde\\x1f2\\xe2MV(Q\\x1b\\xb4e\\x86\\x7f\\xad}\\xceW\\xcb\\xecu>\\x13;\\x8f&)\\xf2\\xe8}m\\xfb;\\x7f\\xc1J~.~\\xcbz\\xe5\\x9f\\x87\\xf5\\r5\\xf5\\xed&\\x17\\xc3\\xc6\\xf7l\\x92*0\\xf5\\xe7\\xa7\\xd2\\xbe\\xcd\\xb0\\xff\\x00\\x82\\xce\\xfc\\r\\xb8\\xb1\\x86\\xe2\\xe3\\xc3h\\xb2I\\n\\xb3\\xaf\\xda:\\x12\\x01#\\xa5a~\\xd1\\x9f\\xf0A\\x9d/\\xe3W\\xc0\\xed\\x17\\xe2\\xcf\\xec\\xf7\\xf1\\x02\\xf2\\xd7\\xc5ri\\xb1K\\x7f\\xa4$`G&\\x07#<u\\xe2\\xbe\\x0e\\xd4?\\xe0\\x9a\\xff\\x00\\xb7\\x06\\x93\\x7f>\\x96\\xff\\x00\\x06U\\x9a\\xdaf\\x88\\xb6\\xde\\xa5I\\x19\\xfd+<N\\n3\\x9d\\xd1\\xcf\\x86\\xc7\\xaat\\xec\\xcf\\xdb\\xf8\\xad\\xb2\\xeb\\xfe\\xed\\x1e%\\xf0\\xc7\\x81\\xe5\\xd6\\xb4\\xff\\x00\\x89_\\x14aY<;\\xe0\\xed\\x1d\\xaf\\xae-\\xa6\\\\\\xc7s>\\xe6T\\x8c\\xe7\\x8e\\xac\\x0f\\xe1W\\x84~[t\\xfb\\xb5\\x0f\\xed\\x99\\xa1\\xddx\\xaf\\xf6\\x03\\xba\\xd3t\\xbd\\xb1\\xcd\\x0e\\xa4\\'\\x97\\xcb\\xe1\\xe4\\x00\\xf4>\\xa3\\xa5x\\x1cQBup\\xbaw;\\xf8n\\\\\\xb8\\x8b_\\xfe\\x18\\xf9g\\xe3\\'\\xfc\\x14\\x13J\\xfd\\xacV_\\x86\\xbf\\x13\\xfe\\r\\xe90\\xa6\\xa3\\x98\\xf4K\\xfc\\x02\\xd6j\\x84\\x85Q\\x91\\xdc\\x03\\xe9\\xd6\\xbc\\x7f\\xf6\\x0b\\xfd\\x88t\\xbf\\x88\\xff\\x00\\xf0R\\x9d\\x0b\\xe1\\x1f\\x88<\\xc8\\xf4dG\\xbe+\\x14`\\xa8\\xda\\xa5\\x87\\xb7\\\\Wu\\xff\\x00\\x04\\xf6\\xfd\\x944?\\xda\\xb3\\xe2<\\xb2\\xfcO\\xd5\\xee4\\xdd\\x1bEv\\xb9\\xd7\\x08\\x1bLL\\xb8\\x0b\\x82{\\x1c\\xaf\\xe7_\\xa4\\xbf\\xb1\\xbf\\xc1\\x1f\\x85\\xba\\x17\\xed{\\xe2_\\x18|3\\xb4\\x8e[\\x1d3JM>\\x0b\\x99\\x103\\x07\\xdb\\x19,\\x18c\\xd7\\x18\\xaf\\x9f\\xca\\xea}Z\\x9d\\xaa3\\xe8\\xf8\\x8b\\xea\\xee\\x97,\\x1e\\xcb\\xe4}ky\\xa8\\xe8\\x7f\\r|\\x18\\xd7\\xf7RG\\x0e\\x9d\\xa5\\xd8\\x84\\\\.\\x06\\x14c\\xfaW\\xe3w\\xfc\\x14\\xc3\\xfe\\x0bq\\xe2\\xcdK\\xc5\\xda\\x8f\\xc1\\xff\\x00\\x83\\xea\\x96ki(\\r{\\x15\\xc3\\x02}zb\\xbf`~#|6\\xb7\\xf8\\xa5\\xe0-C\\xe1\\xf5\\xd5\\xe3E\\r\\xda\\x14{\\x85\\x1ft\\xfd+\\xf9\\xfb\\xff\\x00\\x82\\xb3\\xff\\x00\\xc16\\xbcq\\xfb2|N\\xbf\\xd5$\\x91\\xee\\xbc;}*\\xc85\\xb8\\xad\\xb6\\xecc\\xfc$s\\xe9^\\xd5\\x0c+\\xc4Z\\xa3[\\x9f\\x1b\\x85\\xf6<\\xfa\\xb3\\xc1\\xfcY\\xff\\x00\\x05\\x00\\xfd\\xa759&\\x91\\xbe$]#2\\xff\\x00\\r\\xe4\\x9f\\xfc]y~\\xa3\\xfbM\\xfe\\xd3\\x92\\xdc?\\x89!\\xf8\\x8dqy+>\\xd6\\x86[\\xb9\\x08\\x03\\xd7\\xef\\xd7\\x15\\xe2\\xbf\\x85\\x9a\\x95\\xc6\\xbf\\xf68\\xf5\\xc91$Y\\xe1\\x08\\xaf<\\x9b\\xc3^4\\xf0\\xfe\\xba\\xd6\\xf2\\\\\\\\[\\xaf\\x99\\xb4\\x12\\xc5\\x83\\n\\xf7)ao\\x0e[\\x1d\\xd5c\\x08\\xaeh\\x9e\\xe1e\\xfb}|h\\xd3/\\x96\\xcf\\xc7\\x1adw\\x91\\x0f\\xbc^V9\\xfdM{/\\xc1O\\xda\\xc7\\xc2\\x7f\\x10^;{\\xc5[\\x1b\\x96S\\xbe xZ\\xf9[\\xc4>\\x1e\\xd44\\xad\\n\\xdfR\\x96\\xe1o\\x1af\\x01\\x95\\x86\\xd2*\\x86\\x9b\\xab.\\x85\\xa8y\\x8fo\\xe5\\xc8\\xad\\xf34m\\x83\\xf9\\xd4\\xd6\\xc1\\xc5@\\xe8\\xc2\\xd4\\x97S\\xf4^\\x0f\\x16\\xdb\\xcf\\x0f\\x97k\\x1crE\\'Y\\xf7r\\xb5r)aH>\\xd0\\xdf85\\xf3/\\xec\\xfb\\xf1&K\\xfbX\\xec\\xe4\\xb8\\x95\\xa3f!\\x95\\xe6\\xcdz\\xef\\x8d|my\\xe1\\xff\\x00\\x0f-\\xc5\\x9f?.W\\x9a\\xf9\\xfa\\x91\\x8d\\x19\\xf2\\xb3\\xe8\\xb0\\xf2N\\x17;;\\xf9\\x85\\xc0\\xf2a\\xb7Q\\xba\\xa2\\x7f\\n\\xde^[y\\x9fh\\xdb\\x9e\\xdbk\\xc0\\x9b\\xf6\\xc6O\\r\\xdf}\\x8f\\xc4ZK/\\xcf\\xc4\\xbegj\\xeb4_\\xdb\\x87\\xe1~\\xa1$zm\\xd5\\xcf\\x92\\xc5s\\xbf\\x7f\\xff\\x00Z\\xb6\\xa7B\\xa5X\\xde(\\xb7Z\\x8c7;\\x1doD\\xb8\\xd2_=Efj%\\xa5\\xd2\\xe4\\x8e5\\xf9\\xf1\\xf3}+J/\\x8d\\x1f\\x0f\\xfc_g\\xf6\\xcf\\xed(\\xe3\\x87\\xa6\\xfd\\xdb\\xa9\\xde^\\x9f\\x7fbuM\\x1eh\\xe6\\x81\\xdbj\\x95\\xef\\xf8W\\x1c\\xb0\\xf5\\x95[\\xb4U:\\xf4\\xeaO\\x9a,\\xf9\\x7f\\xf6\\xb1w\\xb4\\xf0\\xf2G\\x1a\\xfc\\xdb\\xc7\\xf5\\xae\\x1f\\xf6E\\xf8y\\xad|Y\\xfd\\xa0\\xbc\\'\\xe0M-J\\xc9y}\\xe6\\xbb\\xaa\\xe4\\xfc\\xb9?\\xd2\\xbd\\xcb\\xf6\\xce\\xf04w\\x9f\\x0en5\\xcb|G%\\x93!)\\xb3;\\xbf\\x1f\\xc6\\xb0\\xbf\\xe0\\x8f\\xd3\\xc9\\xa5~\\xda>\\x1f\\xf1D\\x96~p\\xd2\\xec\\xe5\\xb8te\\xc8s\\xca\\xe3\\xdb\\xaek\\xec\\xf2\\xb6\\xa5K\\x94\\xf8\\xac\\xfb\\xf8\\xeeKc\\xf6\\xd3\\xc2\\x9e(\\xf1G\\xc1K\\x8b\\x1f\\x08\\xea\\x17SM\\x0c6\\xd1\\x13\\x13\\x92\\x01\\xfd\\xd8\\x15\\xe9\\xf1|o\\x9d\\xe2V\\xfe\\xc3\\xb5\\xe5A\\xfb\\xa2\\xa9\\xf8O\\xc7\\xde\\x15\\xf8\\xbc\\x9eg\\x884\\x1bx$\\x92\\xd3\\x01\\xb8f\\xe2\\xa7\\xff\\x00\\x85W\\xe1\\x07\\xf9\\xd7R\\x94\\x03\\xc8\\x1cW]Ne-\\x8f\\x98S\\x83\\xeay\\xe4R3\\xaf\\x15\\xeb\\xdf\\x01\\xfe\\x11i\\x1f\\x144&\\xd4<Wj\\xb7\\x1a6\\x9bp\\xe3P\\xb3|0\\x98\\x04\\xdc\\t\\x1f\\\\W\\x8diE\\xb7\\xfe\\xf1\\xab\\xe8\\x1f\\xd8\\xab\\xc5^\\x17]SZ\\xf0\\x9e\\xa1\\xa8-\\xad\\xd5\\xe4m\\x1cL\\xc9\\xd4\\x15\\x1d\\xeb\\x0c^\\x165\\xe1fz\\x18,T\\xa8T\\xba<O\\xe3\\xa7\\xc0K?\\x8b:.\\xb1\\xe3\\x7f\\x81\\x17v\\xde\\x1b\\xf0\\xfe\\xa1:i\\xfa\\x8d\\xae\\x90\\x826\\x12FG-\\xb3\\x1dJ\\x8e\\xa2\\xbd[\\xfe\\t\\xb7\\xf0\\xd3\\xc4\\x9f\\x07<\\x15\\xe2o\\x03\\xf8\\xa2\\xe2O\\xb5\\x7fky\\xa3Q\\x9b\\xef\\xba\\x18\\xe3\\xefXZ?\\xfc\\x13>_\\x86\\x9f\\xb4\\x15\\xc7\\xc5\\t?j]F/\\x0e\\xeaW\\xa6\\xe6\\x7f\\x06Z6\\xcbk\\xa9J\\xe03.\\xfc\\x120\\x0eq\\xda\\xbdG\\xe2w\\x8e\\xe5\\xf8w\\xa1\\xea\\xfa\\xac\\xa5\\x05\\x8d\\xaa \\x13\\xf4g8\\x03\\x93_\\x9bg\\x14\\x9e\\x1a\\xb3\\xb1\\xf6T\\xa6\\xb3\\x0c7\"\\xfe\\xbf\\xcc\\xf5\\xbbo\\x8az\\x1d\\x8d\\xdbY\\xdc^*\\xb2\\xbf\\x97\\xb8\\xb7\\xde\\xf7\\xaa\\xff\\x00\\x19>\\x15|,\\xfd\\xa2\\xfe\\x1f\\xcf\\xe0\\x0f\\x88\\x96V\\xba\\x96\\x9ft\\xb9\\xc4\\x91\\xab\\x95n\\xc7\\x9c\\xf4\\xaf\\x81\\xbc%\\xfbO\\x0f\\x8a_\\x13o,\\xef/\\x1e\\x1b;t>\\\\\\xb0\\xc8s\\xc6+\\xdd<\\x15\\xfbEh\\xbe\\x15\\xb2\\x86[\\x8b\\x8d\\xb6\\xb1\\xb1V\\x99\\x9f\\xe6s\\xef]9vg8Q\\x8cN\\n\\x99E\\xa7h\\x9f\\x95_\\xf0T\\x9f\\xf8&\\x0c\\xff\\x00\\xb3W\\xc4\\xdb\\xbb\\x0f\\x07_K&\\x93z\\x8b%\\x9d\\xebD\\x17i<\\xe3\\xf4\\xaf\\x84<Y\\xa6x\\xa3\\xc27M\\xa1\\xea\\x9aZ^\\xf9k\\x81;\\x8c\\x9c\\xf5\\xaf\\xdf/\\xdbW\\xc7_\\x0b\\x7fi_\\x86\\x9a\\x96\\x87\\xe2\\x8ds\\xc8\\xb8\\xd3\\xf1%\\xb3)\\x04\\x9c\\x7f\\xfa\\xeb\\xf2\\xf3\\xc6\\xdf\\r<+v\\xf2\\\\K\\x86\\x8e;\\x83\\x1a|\\x83-\\xef_K\\x87\\xc6\\xceSL\\xeaXI*\\x16g\\xc4^\"\\x9a\\xe3^\\xb4\\xfe\\xcc\\xd5,\\xe4\\x87i\\xca\\xf9U\\x86|\\x0fqv\\xe2\\x1bU\\x91\\x97?+\\xbfS_\\\\\\xf8\\xaf\\xe1\\x7f\\x87\\xe1\\xb6k\\x8b;8\\xd9\\xbf\\xbc\\xc8+;\\xc0\\x7f\\nlu+\\xff\\x00\\xb4Kj\\x8e\\xcd\\xff\\x00,\\xd98\\x15\\xd9S\\x11ri\\xe1\\xf9\\x0c\\xdf\\xd9S\\xe0{\\\\\\xe9\\x02\\xeam\\xcaU\\x89\\xdd\\xb6\\xba/\\xda#Q\\xb7\\xf0\\xdd\\x9a\\xe8\\xb1\\xb7\\xcc\\x80n\\xafz\\xf8Y\\xe0\\x98t\\x0f\\x0e\\xc9o\\r\\xa2\\xc4\\x7f\\x84*b\\xbc\\x97\\xf6\\xa0\\xf8i\\x16\\xa1vuH\\xe3\\x1b\\x95FWex\\xb8\\x9eIVM\\x9e\\xb6\\x1fJ-\\x1f!x\\xeb\\xc6\\xf92i\\xe3C\\xb7\\xb8\\x8f\\xef\\x99\\x1c|\\xc3\\xda\\xb8\\xbb\\x7f\\x19\\xf8.L\\xad\\xd7\\x84\\xf7L\\xaf\\x86)\\xff\\x00\\xea\\xafG\\xf1g\\xc3\\x88\\xef\\xb5Y,\\xef<\\xdb]\\xdfvHx\\xe2\\xb5>\\x1d\\xfe\\xce\\xf1\\xe9\\xf3\\xfd\\xbbG\\xbc\\xfbY\\xdd\\xb9\\x92\\xe5\\x03f\\xbd,-JP\\x81\\xe7W\\x85iO\\xdd)\\xfc;\\xd04}Z\\x11y\\xe1\\xfdJk8\\x7f\\x8a\\xceg\\xff\\x00\\xf5W\\xa6xB\\xf3T\\xf0\\xc5\\xdcW\\xda^\\xa1<\\x9c\\xed\\x9a\\xd9\\xdc\\xec\\x03\\xd6\\xb3\\xfe#\\xfc*\\xf1g\\x88\\xe7\\x83X\\xb1\\xd2\\xac\\xecL{\\x03}\\x8a-\\xa4\\xe3\\xf1\\xae\\xaf\\xe1\\xee\\x83\\xacZ@\\xb6\\xfa\\x84l\\xde\\\\_9~\\x8d\\xcfz\\xf2\\xf1\\x18\\x8f|\\xf4\\xb0\\xf4}\\x94\\x0b\\xbf\\xb5\\x16\\xa93\\xfe\\xcf\\x9a\\xb6\\xb9$c|\\xdeZ\\xaf\\xd7\\x8a\\x8f\\xfe\\x08\\xb7\\xe3\\x9f\\x0b|7\\xf1\\x84\\x97\\x9e0\\xd1b\\xb8\\xb8\\xd5\\xaed\\xb6\\xb7\\x92Q\\xcc`\\xe3\\xa7\\xe5S~\\xd5\\x967W\\x1f\\xb3\\xd5\\xd6\\x97\\x1a\\xed77q,J?\\x87\\x91\\xd2\\x9d\\xfb\\n|\\x16\\xba\\xf0\\xf7\\xc4o\\x05xv\\xe2G\\xb8\\x9a\\xe2\\xff\\x00\\xcf\\x9d$\\\\\\xe0`\\xd7\\xa3\\x83\\xc6{8i\\xb9\\xe7f\\x18/m\\x1b\\xb3\\xf6cF\\xf8-\\x1f\\x84\\xf4\\xcb_\\x16h\\xda\\x84\\xb7\\x11\\xdfcj/\\xf0\\x023[\\xeb\\xe1;\\xf0\\xa0y\\xb3t\\xfe\\xf53\\xc4\\xba\\xdf\\x8c>\\x1bjvv:\\x1d\\x9a\\xcdh\\xb61?\\x92\\xdfu~Q\\xda\\xab\\x9f\\xda#Y\\x07\\x0f\\xa2\\xae\\xee\\xff\\x00/z\\xf5\\xa3^sW>6\\xa6\\x1a\\x10\\xa8\\xd1\\xc2\\xda\\xc7\"?\\xdd\\xc0\\xa9\\x8cw\\x97S\\xf9q\\xeb\\x17\\x96\\xaaG\\xcb-\\xb4\\xdbJ\\xd0\\x9d\\x7f\\nd\\xa5\\xbc\\xc56\\xff\\x00y~\\xf5zr\\x87<l\\xcf>\\x15\\x158\\xf32\\x8f\\xc2\\x17\\xd2\\xf4\\xaf\\xdaOC\\xbc\\xf1\\x87\\x8c\\xb5\\xfdR\\xf6\\x19d:m\\xad\\xd5\\xe1h\\\\\\xf9l9\\x18\\xec3^\\xb5\\xfbGj\\xd1\\xeb^\\t\\xd7\\xb4\\xb1\\xf3A2\\x06\\xf2Y\\xfac\\x15\\xc2\\xf8F\\xfe\\xde\\x1f\\x19\\xd8\\xde\\\\i\\xb1\\x99\\xa3c\\xb2l|\\xc3\\xe55\\xcb~\\xd3\\xbf\\x10\\xe4\\xb0\\xd2\\xb5H\\xd2\\xf3\\xcb\\xdd\\x07\\xddS_\\x9c\\xf1\\x06\\x1f\\x93\\x11\\xca\\x8f\\xba\\xe1\\xda\\xef\\x11C\\x99\\xee|\\xc7\\xe0/\\x89\\xba\\x1f\\xc3\\x7f\\x1a\\xea\\x97\\x1af\\xdb\\x89<\\xc2\\x9ff~\\x07nsY_\\x15\\xff\\x00k\\xdb\\xcb;\\xc8\\xec\\xec$\\r\\xff\\x00=l\\xd5\\xce\\x17\\xde\\xbe]\\xf8\\xa1\\xe3\\xadz\\x0f\\x14\\xdeO\\xa6\\xde2\\xb3\\xc8K0s\\\\Sx\\xa7\\\\\\xf3\\xcd\\xe6\\xa1x\\xd2H\\xdf\\xde~\\x95\\xc9\\x87\\xc0\\xb4\\x93>\\x898\\xb8^[\\x9fAk\\xbf\\x1b\\xf5\\xcf\\x11\\xcdquqy!\\x8d\\xb1\\xb7\\x13\\x1f\\x9b\\xda\\xb8\\xff\\x00\\x16|^\\x92\\x08\\x1e\\xf2\\xde\\x05\\xc4q\\xedh\\xba\\xe0\\xfa\\xd7\\x98\\xcb\\xe2\\xad@C\\xe5\\xf9\\x84g\\xfd\\xaa\\xda\\xf0TV\\xf7\\x97+%\\xf4\\x9b\\xc3\\x0c275\\xedP\\x8c\\xe3\\xa1\\x8c\\xa5M\\x1d7\\xc2\\xcf\\t|H\\xf8\\xe74\\x97\\x9a=\\xb3-\\x9a\\x93\\x97\\x0f\\x8cc\\xda\\xbdK\\xe1\\xf7\\xc3k\\xcf\\x87z\\xfai\\xfa\\xa5\\xabL\\xcb\\xc2\\xb3\\xaf-\\x9fj\\xf1\\xcdW\\xf6\\x87\\xf1G\\xc0\\x1dz+\\xaf\\x07\\xe9q\\xb5\\xa8_\\x9d9\\x00\\xe7\\xe9^\\xbf\\xfb3\\xff\\x00\\xc1H|\\r?\\xc6\\xed\\x0f\\xc7\\x9f\\x13<\\x1dk}oo\\t[\\x9d5\\xfe\\xe9<\\x81\\xd4\\x1a\\xd6\\xa4\\x9c69\\xfd\\xd9\\xfc\\'\\xbc[\\xe9Q\\xdch\\xde|zx\\x8d\\x82t\\xc6\\xda\\xf1\\xbf\\x8c\\x1a\\x1e\\xebi\\xae.#\\x1f+\\n\\xfa/\\xe3w\\xedS\\xf0\\xcf\\xf6\\x89\\xf1\\x1f\\xf6\\xd7\\xc3?\\x05\\xda\\xe8V\\x7ffD\\xf2\\xe0 \\x02G\\xe0+\\xc3<o\\xe1}C\\xc4w\\x0fgky\\xb9[\\x9e+\\xcb\\xc4Un\\xa6\\xa6\\xd8zrp\\xf7\\xb4<V\\xeb\\xe1\\x8e\\x9b\\xe2\\x8b\\x03\\xa9E\\ny\\x91\\xb6\\xcf/`\\xe6\\xb2\\xb4\\x7f\\x01\\xdbi\\x97\\xdfg\\x9a\\xcd\\xe1\\xf9\\xb1\\xf2\\x0e\\xb5\\xe9\\xb1\\xe9-\\xe0\\xddMt\\x9dC\\x96o\\x9c\\x03\\xe9[\\xc1m\\xd2\\x1f\\xb6[\\xe9\\xf1\\xb7\\xbb-iN\\xacm\\xab;\\xe3N\\'\\x1f\\xe1\\xaf\\x86V\\xb7\\x17m\\x1d\\xc4\\x92,;2\\xac\\xdc\\xf3]\\x05\\xaf\\xc3\\x7f\\xb0G\\xf6x\\xe3Y\\x16F\\xe3\\x8f\\xc6\\xb6\\xb4\\x9dZ\\xcd\\x9f\\xfdR\\xaf\\xfc\\x06\\xack\\xfa\\xa8\\xb4\\xd2$\\xbc\\xb6\\xc7\\x99\\x1f\"\\xb9*TRb\\x8d9\\xcfs\\xc3?jM\\xb7^\\x0f\\x87E\\xd3cY\\x1b\\xfbJ4\\x85\\x0f\\x1b\\x9cr\\x7f@k\\xe9\\x9f\\xf8%\\x87\\xc1+\\xcf\\x88\\x9f\\x13.\\xbe+k\\x1a^\\xdd3H\\x87\\xec\\xc98\\xc1\\tp\\x15N\\xd0>\\x87\\xad|\\x9b\\xf1r\\xfaO\\x18\\xfcI\\xb3\\xd2~e\\xb6\\xb7O\\xb4;\\'\\xf7\\xb9_\\xeb_\\xa3\\x9f\\xb1]\\xe7\\x81\\xbff\\x0f\\xd8\\x7fO\\xf1\\x97\\x8a\\xbcFU\\xb5mFK\\xd1o\\x08\\xdb \\x19+\\xc9\\xe7\\xfb\\xb5\\xea\\xe1b\\xb4g\\x99\\x99V\\xf6T\\xec{\\xb7\\xc4\\xff\\x00\\x8eV\\xbf\\t\\xe0\\x9b\\xc7\\x1e4\\xb7F\\xd1-c\\x10O$\\xfc|\\xfd\\x87?\\x85x5\\xe7\\xfc\\x15\\x9b\\xf6|K\\xb9Ph\\xfa~\\x04\\x8c\\x07\\xc9\\xef\\xf4\\xaf\\x8b\\xbf\\xe0\\xab\\xbf\\xf0TMc\\xf6\\x8fk\\xaf\\x84~\\x03\\x8e+?\\x0f\\xdb\\xf9M-\\xcaJ|\\xd7e\\xfc\\xab\\xe0o\\xf8M\\xef?\\xe8-1\\xf7\\xf3\\r}n\\x1a\\x8f5;\\x9f\\x9fb\\xaa9Vl\\xfe\\x87\\xe2y$\\n\\xd1\\xc6[\\xcc\\xe1\\x14WAg\\xf0\\xcb\\xe2\\x05\\xee\\x87&\\xb9c\\xe1\\xf3\"\\xf9\\x81\\x103\\xed\\xdd\\xef^\\xa9\\xfb#\\xfc\\x10\\xb3\\xf8\\x81\\xab\\xaf\\x8bu\\xaf\\x96\\xce\\xc9\\x8f\\xc8\\xd1\\xe5\\\\\\x8f\\xff\\x00]|\\xdd\\xff\\x00\\x05\\xc9\\xf1\\xff\\x00\\xc6\\x9f\\x83\\xfe1\\xf0\\xcf\\x89>\\x1cx\\x9fT\\xd3|1<+\\x03[i\\xd7f\\x08\\xc4\\xbf?<q\\xda\\xb7\\xc7T\\x95\\nJK\\xb9\\xe8\\xe4\\x99U<\\xd7\\x1a\\xa8K\\xd4\\xed\\xb4o\\rx\\xa3\\xc3\\xde7\\xb3\\xd2\\xf5\\x8d\\x0eT\\xb9o\\x9b\\xae\\xe4 \\x8fZ\\xf9s\\xfe\\n\\x83\\xad\\xea\\xbf\\x0e|O\\xa9i\\xf6\\xeb$*-\\xe2m\\x92>r\\x0e3]/\\xfc\\x12\\xb7\\xc5\\xdf\\xb4\\xc7\\xed+\\xf1\\xb1\\xbc+\\xe2\\x8f\\x8bz\\xa4\\x9a\\x1f\\x87C^jV\\xf7L\\xf3}\\xa16\\x8cG\\xe6g\\x1c\\x17\\x07\\xbfJ\\xca\\xff\\x00\\x83\\x80|+\\x1f\\x87\\xfcM\\xa0\\xfcC\\xb3\\xbc\\x92Kk\\xd8#\\xb6\\xb8\\x8c\\xa7\\xca\\xc4y\\x9f\\xe1_\\t\\x9bU\\x95LJm\\x1fe\\xf5\\nYN+\\xd8A\\xaf\\x91\\xf9\\xbb\\xad\\xdd\\xff\\x00h\\xdc\\xb6\\xa1o&\\xe4\\x97\\x95\\xdd\\xda\\xb1c\\x8aH\\xae|\\xcf1\\x9b\\xfd\\x96\\xe9W!\\x99\\x16\\xcf\\xe5\\x8fj\\xb6J\\x0fj\\xac\\xd7\\x19z\\xde\\x9c\\xe3\\x18\\xa4z\\x95p\\xf7\\x871C\\xc4\\xf7\\x92Ai\\xe6n\\xda3\\xf7\\xaa\\xc7\\x80\\xb5\\x1daO\\xdb4\\xdb\\x95\\xb8\\xf9pc\\xdd\\xd0z\\xd4w\\xfaZ\\xf8\\x8a\\xcd\\xb4{\\x83\\xb5\\x8fq\\\\.\\xa5\\xe1o\\x18\\xfc7\\xd4[R\\xf0\\xce\\xb1&\\xe6\\xe3cg\\x04u\\xae\\xea3\\x8c\\x9d\\x8f\\x0b\\x11N[\\x1e\\xc5\\xe2=KP\\xd5t\\xff\\x00\\'T\\xd0\\xf6\\xfb\\xed\\xcdq3xr\\xce]^\\rCKV\\xb6\\xb8\\x83\\xef\\xb4Cho\\xada\\xe9?\\xb5G\\xc5M-F\\x93\\xaexj\\xde\\xea5\\xfe2\\t5\\xd2xk\\xe3f\\x87\\xe2Y\\x1e?\\x11hig\\xe6uh\\x97\\xa5*\\xf4\\xcb\\xc2\\xaeM\\xcfP\\xf0o\\x8c<Io\\xa7\\x0b;}Jm\\xcc\\xb8gI\\xb0\\x05u\\xde\\x1e\\xf8\\x95\\xf1C\\xc3\\xfa\\x94w\\x16wPM\\x1fF\\xfbB\\x16\\xfe\\xb5\\xe5~\\x12\\xbc\\xf0\\xcbjk\\x1e\\x87\\xafH\\xcd#|\\x90\\xbbpk\\xbc\\xf3\\xf5\\x1bKd\\xb8\\x8eO0z#n\\xaf\"\\xb6\\x1f\\x9eW=\\x98\\xb8\\xcfS\\xd0\\xb5\\x9df\\xe7\\xc4K\\x1e\\xbd\\xa9\\xe3\\xed\\x016\\xb6\\xce\\x16\\xb5\\xbc9\\xac}\\xb2\\xc7\\xec\\xf2\\xb6\\x02\\xe7\\xee\\xd7\\x98\\xb7\\x8e\\xa4d\\x8e\\xc6HJ\\xfc\\xbf1 \\xd7G\\xa2\\xeb\\x7fc\\xb1\\x13u\\xcf\\xfbU\\xc7*n\\x1a\\x1dT\\xe3\\x13\\xafI$\\x8d\\x9b\\xec\\xe5U\\x7f\\xdd\\xae\\x7f\\xc5\\xde1k\\x1bi-\\xd5\\x97r\\xf2\\xbb\\xba\\x1a\\x8e\\xef\\xc4\\x13j.~\\xc6\\xdbWmp\\xff\\x00\\x11.\\xee\\xa2\\x89c\\xb7\\xda\\xd2\\xcb.\\xd2\\xcez\\x0cf\\xa6\\x96\\x1eS\\x98\\xb1\\x15cJ\\x9d\\xcd\\xaf\\x82\\x03\\xfe\\x16G\\xc4\\x7f\\xf8F\\xe4\\xd2\\xe1\\xf2.\\x17m\\xe5\\xcb/\\xcc\\xa8\\x08?)=:W\\xd0\\xdf\\xb7G\\x8d\\xfc\\x07\\xfb9\\xfe\\xcd\\xb7\\x11\\xf8uc\\xb8\\x9a\\xea\\xd5a\\xb5\\xf3\\xae\\xd4\\xb2\\x03\\xd4\\xe0w\\xc85\\xf9\\xf5\\xf1_\\xf6\\x9a\\x93\\xc1\\x16\\xdf\\xf0\\x81\\xf8>\\xf9\\xacu`CKu\\x03\\x9c\\xe3\\xea+\\xe6\\xef\\x8b\\x7f\\x14<q\\xe3=JG\\xf1\\x86\\xbd\\xa9\\xea~[\\x0c<\\xb7\\xe4\\xa3q\\xfd\\xd3_a\\x81\\xcb\\xe4\\xe2\\x8f\\x81\\xcd1\\xde\\xd3\\xdd\\x0f\\x13x\\x93T\\xd6\\xe3\\x96\\xebT\\xbcf\\x91\\xee\\x9aD\\x95\\xd8\\xb4\\x83\\xaf\\x1b\\xbd+\\x13\\xfbj\\xe3\\xd5\\xaa\\x1b\\rrGU\\xb7\\xbcUU\\x97\\x84\\x8b\\xa9\\x15\\xa1\\xf6k?\\xee-}U\\x1a\\x1e\\xce\\x16>N\\xa4\\xb9\\xa5s\\xfb\\x83\\xf07\\x81t?\\x87\\x9e\\x1f\\xb7\\xf0\\x86\\x97m\\x1a\\xdb\\xc6\\x99_\\x94\\x0ek\\xc8?\\xe0\\xa1\\x1f\\xb2>\\x8f\\xfba\\xfe\\xcfz\\xb7\\xc2\\x8dJ\\x04[\\xd7\\xdbq\\xa7\\\\\\x88\\x81hdC\\x9e?\\x0c\\xfeu\\xeds\\xe91\\xbd\\xf2\\xea\\x12j\\x12yd\\xfc\\x8b\\xefK\\xa8Hl\\xa2\\x92\\xe2\\xe2\\xf3\\xcb\\xc9\\x05Y\\x86q\\\\\\xf5%\\x19h\\xcd\\xe8V\\xab\\x86\\xad\\xcf\\r\\xcf\\x9c\\x7f\\xe0\\x9a\\x7f\\xb2\\xee\\x9d\\xfb1\\xfe\\xcbZw\\x81&\\xd3QuYn\\'\\x93V\\xba1\\x00\\xf2>\\xe2\\x06O_\\xba\\x05|\\x8d\\xff\\x00\\x05\\xe0\\xf0\\xd4~4\\xfd\\x9b/4=\\x1f\\xfeB\\xdaM\\xd4w\\xda^\\x17\\x92\\xbb\\x8a\\xb7\\xf3j\\xfd1\\xb8\\xd7\\xac\\xee\\xa1h\\xf4\\xc7\\x0b\\xce\\xec\"\\xe3<s_\\x9a_\\xf0XK\\xe9\\xaco\\xe6\\xd7,\\xe5\\xfd\\xdcq\\xaa4;x\\xdaA\\xc8\\xfc\\xf9\\xaf\\x86\\xcf\\'lR\\xb1\\xf5\\xd9<\\xabN\\xbb\\x9c\\xfa\\x9f\\x88\\xf6\\x9e\"7\\xb2yrad\\x8c\\xec\\x95\\x7f\\xdb\\x1dkZ\\x15k\\x84\\xdc[\\xadq\\xff\\x00\\x16\\xe4\\x8fE\\xf1\\xd6\\xa1\\xa9i+\\xe5\\xdb\\xcdq\\xb8B\\xbc`\\xf7\\xa7xc\\xc5\\xb2\\xdc\\xaa\\xc7#r\\x7f\\xda\\xa2\\x9cy\\xe0\\x99\\xf6\\xb2\\x95\\xe9X\\xf4/\\r\\xd8\\xc8\\xb7^t\\xdfw\\xa5jk\\x9e\\x1e\\xb3\\xd4\\xac\\xa4\\x93\\xcbV\\xfe\\xef\\x1d+\\x07\\xc3>!\\x8ed\\x11\\xdd6\\xc3\\x9f\\xefW\\xa3xON\\xd3u;O.\\xe2O\\x94\\x8f\\xbf\\xeakXG\\x92W<\\x8a\\xd0\\xe6\\x9d\\xcf\\x1a:M\\xe6\\x9b\\xa83I\\xa7\\xa7\\x96=\\xaa\\xc4\\xf6\\xde\\x1d\\xbc\\x80y\\xd6j\\xb2\\xb7\\\\-{}\\xdf\\xc2\\xbd/R\\x80\\x88\\xe4\\xdd\\xbb\\xfd\\x9a\\xe7u\\xbf\\x80s\\xb2\\x7f\\xa1\\xc9\\xdf\\x85\\xd9\\xc8\\xab\\xa9X\\x9ap<\\xbe\\xd3\\xe1\\xfe\\x9f\\xaa\\xc8<\\x8d]\\xed\\xf3\\xf7dN\\xabW4\\x01\\xf1S\\xc1\\xb7\\xcdo\\xe1}bK\\xa8\\xbf\\x87\\xcd\\'\\xfck\\xb8\\xd2>\\x12^X\\xdf%\\xbd\\xd2\\xb2\\x8d\\xdc\\xb3/\\x15\\xd8i>\\x1e\\xd3\\xf4\\xb4\\x16\\xfeH\\xdd\\xfd\\xf0\\xb5\\xc9S\\x11m\\x0fB\\x8d\\x1b\\xab\\x9eg\\xa5x\\x8b\\xe2%\\xe7\\x88#\\xb3\\xf1\\x85\\xb8XdM\\xdf-zV\\x94\\xf1\\xf9\\x0bn\\x1b\\xf7=i<A\\xa4G\"y\\x9e^\\xec/\\xf1u\\x15\\x9bkr\\xbb~\\xc7oq\\x97\\x1dc\\xc7O\\xc6\\xbc\\xca\\xd5\\x1c\\xe4vE\\xc2\\x06\\xbc\\xfa\\xac\\xdej\\xc3o\\xf2\\xc6+\\xc0\\x7fj\\xff\\x00\\x8bwZC\\xff\\x00b\\xe9s~\\xf4\\xb0\\xde\\xc0\\xf6\\xc5z\\'\\x8e\\xbcQue\\x04\\xd6zl\\x7f,I\\x93p\\x1f\\xad|{\\xf1w\\xc4\\xd7^#\\xf1t\\xd7\\x17\\x17\\r\\xb9[i\\x1b\\xb3^\\xbeS\\x83\\x94\\xe7s\\xe7s\\xaclc\\x0b\\x18\\xaf\\xad\\xea\\x97S\\xcdyypw3\\x7f\\x13V-\\xed\\xcc\\x97.\\xd23r\\xcd\\xf7\\xbdj\\xc5\\xe2m\\x80\\xee\\x935\\x9c[\\xcbM\\xdbk\\xefp\\xf1\\xe4\\x8f)\\xf9\\xcdi9\\xd4ld\\xc2H\\xcf\\x99\\x0f\\xde\\x1d)\\xdfn\\xbf\\xf5\\xa7C.\\xf7\\xff\\x00WSl\\x97\\xd4\\xff\\x00\\xdfU\\xd2f\\x7fs^6\\xf1\\x05\\xe6\\x9fd\\xb6z\\x0c\\x91\\xcd$\\xd2\\xed\\x91w\\x7f\\xa9\\x1e\\xb5\\xe2\\xdf\\x1a?j\\xfb\\x7f\\x83\\xba\\xb5\\x8f\\xc3\\xbd&5\\xd75\\t\\x18\\x0b\\x99\\x1d\\xfe\\xe6r\\x7fJ\\xf4o\\x89\\x91\\xe8\\xfe\\x1e\\xd0\\xefO\\x85\\xed\\xdb\\xfbB\\xf9p\\xd3C\\xc3s\\xef_1Z\\xfc\\x1d\\xb3\\xf8gq\\xa8x\\xf3U[\\xadCV\\xd4\\x1c\\xb4\\xb1]\\xfc\\xc2\\xdf\\xb7\\xcb\\xe9\\xc0\\xfdk\\xe7q\\x95\\'\\x18]\\x1fa\\xc3\\x99v\\x1f\\x17[\\xf7\\xdbv\\xf3;?\\x11\\xfe\\xd1\\xfe;\\xd05\\xdb\\x0f\\xb0hpIg{\\x83t\\x06s\\x18 \\xd7\\x86\\x7f\\xc1I\\xbc:~\"|$\\x93\\xc6\\x16\\x9axx6\\xaf\\xdaX\\x0e\\x87\\x9a\\xde>,\\xbc\\xb7\\x8a\\xe2\\xe2\\xe2vE\\x7f\\xbf,\\xbc\\xb4~\\x80T\\xfe\\x02\\xd6[\\xe2\\r\\x9d\\xff\\x00\\xc3\\xbf\\x88m\\x1biZ\\xd3\\x15\\x816|\\xb1\\xe0p@?J\\xf9|e9V\\xac\\xa4\\xcf\\xd3*\\xf0\\xf5<6\\x1b\\xdbSH\\xfc\\x13\\xfd\\xa0\\xfc1\\xa5\\xdc\\xeb\\x97Q\\xc1\\x18\\x8fl\\x98\\x18^\\xb5\\xe2\\xba\\xd6\\x9d\\xabx~\\xf9Z\\xceF\\xc5}\\xcf\\xff\\x00\\x05_\\xfd\\x98/\\xbff\\x9f\\xdaf\\xef\\xc3\\x1a=\\xa4\\xd3h7\\xf6\\xf1\\xdeiW\\xec\\x98R\\xe7\\x83\\x17\\xa6:\\x9a\\xf9\\x7fW\\xf0\\xfc7\\xf2-\\xbd\\xe4\\x7f\\xe9,\\x99\\xbc@8\\x84v\\xdb\\xfa~u\\xb7\\xb6\\x84#c\\xc9\\x8d9\\xcfE\\xb1\\xc2i~+\\xd5$\\xc4\\xd3HT\\xaf\\x1dk\\xbd\\xf0w\\xc6\\xbb\\xbd.\\x05\\xb5\\xb9\\x1f \\xfb\\xa7wz\\xe7u\\xbf\\x04Ga\\xfe\\xa5\\xbe_\\xf7k-\\xf4O:/\\xb3\\xfd\\xcd\\xa79\\x1d\\xea\\xbd\\xa2\\x9c.\\x89\\xa9\\x85\\x9a>\\x94\\xf8q\\xf1N\\x1de\\x17u\\xc0\\\\\\xfb\\xd7\\xa2C\\xe3\\x0b[\\x08Rh\\xee\\x16B\\xd5\\xf1E\\x9e\\xa3\\xaexfO2\\xce\\xe2l/\\xfbu\\xaf\\x0f\\xc6\\x7f\\x14Z\\xdb$\\x7f\\xbem\\xbf\\xc2\\\\\\xd7,\\xa2\\xe5\\xd4\\xc3\\xd9\\xca\\x07\\xdbzu\\xce\\x93\\xafi\\xadyq\"\\xab\\x0f\\xee\\x8a\\xc4\\xd7\\xf4;8\\x9b\\xed\\xd1\\xdc|\\xa3\\x9a\\xf9wA\\xfd\\xa8<Ik\\x10\\xd3\\xe5\\xb7*:\\xe5\\x9c\\xf6\\xe6\\xac\\xea\\xdf\\xb5?\\x8a<Eb\\xd6\\xf7\\xd6\\xed\\xa7\\xc75\\xc6\\xf7h\\xd8\\xfe\\xee0\\xb8\\xe3\\xeaG\\xebJ\\x9e\\x1f\\x9fv\\x1e\\xd6q\\xd1#\\xda|M\\xe2;\\x11\\t\\xb3\\xfb_\\x96\\x15r_\\xfaW/f|Y\\xe3\\xcb\\xbf\\xf8G\\xfc7\\xa5\\xf9+\\x9eo\\xd3\\xa9\\x1d\\xeb\\xa2\\xfd\\x8f~\\x05\\xf8\\x7f\\xf6\\x86\\xd1\\'\\xf8\\x8d\\xe2/\\x12^}\\x8e)\\x19-\\xad\\xb7n\\x8e`1\\xf3\\x91\\xeb\\x9c\\x8a\\xfa*/\\t\\xf8o\\xc0\\xde\\x19\\x8e\\xebE\\xd3\\xe3\\x85`b\\x9eJD\\x14?^MmS\\x07\\xec\\xf7<h\\xe6\\x9e\\xd3\\x14\\xe9Z\\xc7\\xc3\\xff\\x00\\xb4\\xb6\\x9bu\\xf0c\\xc3si\\xb2j/5\\xc4\\xca\\tgny\\xaf\\x91n.d\\xbb\\x92K\\xcb\\x8f\\xf5\\x8f)9oJ\\xfa;\\xf6\\xf6\\xf1l\\x9a\\xc7\\xc4\\x1b\\x9d-\\xa4%UT\\x8f\\x9b8\\xaf\\x9cuF[i#\\xb7\\xff\\x00c9\\xaf\\xa5\\xc9\\xe2\\xa9\\xee|\\xcey\\x89\\x94\\xdd\\x91N\\xf2\\xe1\\x9d|\\xba\\xaa\\xcb\\xd23\\xcdM\"\\xee?\\xad5\\x13p\\xf2\\xfa\\x11\\xfcU\\xf4\\x16\\xe5\\x9d\\xcf\\x0e1\\x97\\xb3\\xbb,\\xe9\\xd6^k*\\xff\\x00\\xb5Z_a\\x87\\xfd\\x9a\\xa5k\\'\\x90\\x9e_F?t\\xf7\\xa9\\xf7\\xcb\\xff\\x00=[\\xf3\\xaa$\\xfe\\xe7 \\x83G2\\xacb\\xd2\\x18\\xc3\\x0f\\xdd\\xbb\\xe3\\x93\\\\\\xd7\\xc4]/O\\xbc\\xd3\\xe6\\xb80C$\\x91/?\\xb9\\xfb\\xf5\\xc5|\\x1c\\xf8\\x99g\\xf1\\x7fO\\xd3\\xfcg\\xe1\\xbd\\x0ek\\xcb=J\\xd8<2\\xddI\\xfe\\xa3\\x8cp\\x08\\xafC\\xbe\\xd1\\xee</\\xa4Mq\\x1cs\\xea_.\\xe7\\x85\\xee0\\xa0\\xfa\\x01^Mj<\\xea\\xc8\\xf6g\\xed\\xf2\\xdcrK\\xa1\\xf1\\xa7\\xc5K\\xbb{\\x8dV\\xf6\\xf3Q\\xd0#\\x83\\xec\\xa3\\xf76\\xad\\xf7g=\\xab\\xcd\\xae\\xf4_\\x8e\\x1e=k\\x1d?\\xc3\\x9a|zm\\xf4\\xd9\\x0f\\x1c`\\x9f\"1\\x9c0 \\xfd+\\xe9\\xbdvO\\x8b\\x7f\\x10\\xbcGv<M\\xfb:i\\xb6zE\\xaa\\x96\\xb0\\xd4\\xe5\\x91d\\xdcG\\xaa\\xf5=\\xeb\\xc3~,~\\xd2\\x9f\\xb4w\\xc3\\x08\\xef4O\\x04|\\x0b\\xd3\\xa7\\x93\\xeeA<J\\xd1\\x11\\x9a\\xf2ka!\\xd4\\xfdo-\\xe2\\xa5_\\x00\\xa8\\xa8\\xfb\\xd6\\xb6\\xac\\xc6\\xf8\\xc9\\xfb0Y|y\\xf8\\x1f\\'\\xec\\xc9\\xf1\\xeb^\\x82\\xe3V\\x9b\\xf7\\xdaw\\x89D\\x00\\xcfo \\xe4E\\x92I\\xfcs\\xde\\xbf\\x1f\\xff\\x00h\\x0f\\xd9\\xa7\\xc5\\x9f\\xb3\\x17\\xc6}[\\xe0?\\x8b<\\xc7\\xbe\\xd2P\\\\\\xdb\\xdd\\xc83\\xf6\\xf8[\\x18\\xf9\\xbaq\\x9e\\x9e\\xd5\\xfa\\x9b\\xfb?~\\xcf_\\xb5\\'\\xc5\\x0f\\x88\\x93~\\xd0?\\x1e\\xbcA\\xa8i:l.R-\\x06;\\x92\\xebpp1\\xcex\\xeb\\xe9\\xda\\x9b\\xff\\x00\\x05\\x07\\xfd\\x91\\x0f\\xed3\\xf0\\xb6\\xe2?\\nx|\\xc5\\xe2\\xef\\x0e2\\\\Z\\xbb\\x01\\xe6\\x18GP\\xcd\\x8eF\\t\\xaf\\x17\\x1b\\x87\\x94 v\\xe1%FR\\xbd\\xd7\\x9f\\xaf\\xf5\\xd0\\xfc\\x80\\xd4\\xbc/n\\xd1n\\xea\\x7f\\xbb\\xe9\\\\\\xde\\xa9\\xe1\\x8f2_&8\\xf0\\xcb\\xcfJ\\xf5mS@\\xd4\\xb4}Fm\\x0fT\\xd0|\\x99\\xa1b\\xae\\xcd\\xea85\\x81\\x7f\\xa4Ba2\\x06\\xf9\\xf7\\xe0\\x8fA^\\x04q3\\xa6\\xecwV\\xc1\\xc7\\xe2<\\xee\\xdfI6\\xf2yw\\x16\\xa0\\xfdV\\xb7t?\\x07\\xe9\\xf7\\xc3\\xed\\x1f\\xd9\\xe8\\xcb\\xf4\\x15z\\xefB\\xd8\\xfeg\\xfe\\xcbN\\xb2\\xd4d\\xd0\\xd7\\x1b7f\\xba\\xe9\\xe2y\\xce*\\x94)\\xf2\\x99\\xba\\xdf\\x84t=\\x8d\\x1a\\xe9\\xab\\xc3\\r\\xdb\\x13\\x9a\\xfb\\x13\\xfe\\tM\\xf0\\xa7\\xf6W\\xf1O\\x8cu\\xaf\\x07\\xfe\\xd1\\xfa\\x1d\\x8d\\xf5\\x9f\\x89\\xb4\\xf6\\xd3\\xf4\\xa9\\xaeaS\\xe4\\xcd\\xf2\\xb0\\xdb\\xbc\\x1eF\\r|\\x9b{\\xa8\\xda\\xa4-\\xac\\\\j\\xcdd#\\\\\\xf9\\x89\\xd4\\x7f\\xfa\\xfaW\\xd9\\xdf\\xf0C\\xff\\x00\\xd9\\x0c~\\xd3\\xde \\xd7\\xbe.k\\xfa-\\xd4\\x966w\\rmm\\r\\xe7\\xfc{[\\xba\\xeco> G\\xde=2=Mw\\xd3\\x8c\\xdf\\xbc\\x8c\\xea\\xd1\\xc3C\\x01\\'=<\\xf6;\\xc8\\xbfa\\x9f\\xf8`\\xbf\\x88z\\xdf\\xc2=\\x1e\\xfe\\xe3P\\xf0\\x95\\xe3\\xff\\x00i\\xe8:\\x84\\xc9\\x8f.7\\xc7\\xee}1\\xbb5\\x8f\\xf1\\x0e\\xc7\\xcc\\xd0dmRO\\xb2\\xcb\\x0cL\\xd1\\xc1\\x12n\\xde\\x988<W\\xe8\\x97\\xc4\\xbf\\x0exS\\xc7\\x1e\\x18\\x9b\\xe0\\x8f\\x895\\x05\\x99\\xad Cg\\x7f*\\xe6c\\x83\\xc2\\x93_\\x15\\xfcc\\xf8{\\xae|<\\xf1\\xd5\\xe7\\x86u(\\xc4\\x12-\\x816s:d:\\xff\\x00\\x9c\\xd7}\\x1cDg\\xb9\\xf18\\xbc\\x9e\\xa4\\x17\\xd6\"~2~\\xd6\\xb1\\xdeI\\xf1\\x16\\xf2\\xe2\\xe1\\x7fx\\xcd\\xf2/\\xa8\\xcdx\\xb6\\xac.%\\xb9[\\x89\\x17\\x9d\\x9bZ\\xbe\\x91\\xfd\\xbb\\xad\\xed\\xed~!\\xcf\\xf6x\\xd7;\\xbb\\x0fs_7^\\xdc\\xb4\\xa7\\xcan\\xa0\\xe6\\xbd\\xec\\xb7s\\xe5\\xb3z6+\\xac\\x91\\xa7\\xfa\\xcc~T\\xd9\\xe5S\\xf3[\\xf2\\xd4\\xd9\\xce\\x0e\\xe1MB7b\\xbd\\xe3\\xc3\\x8c\\xbd\\xc2kI$\\xc8{\\x8e\\xbb\\xabC\\xcdOZ\\xcf\\x8dw\\x05\\xab\\xeb\\x03\\xed\\x1fOZ\\xc2\\xa5KH#\\x1b\\xa3\\xfa\\xfb\\xff\\x00\\x82e\\xea\\x9a\\xaf\\xc4_\\x81>\\x10\\xf8\\xc7\\x7f\\xe2\\x89\\xa3\\xd3\\xa4\\xd1\\xcd\\xbd\\xbe\\x9e\\xd2f2\\xe1\\xc8\\xc9\\xf5\\xe8k\\xea8&\\xb6\\xd4\\x0c\\xd1\\xbd\\xba\\xad\\xac.\\x14\\xbe8s\\xd7\\xfa\\xd7\\xe7\\xc7\\xfc\\x1b\\xe1\\x1a|\\\\\\xff\\x00\\x82\\x7f\\xe8w\\xfe$\\xd7.Xx\\x7f\\xc4W\\x11C\\x18\\x7f\\x95\\x81\\x04\\xe0\\x8f\\xf8\\x15~\\x87M\\x15\\xbcv\\xff\\x00`\\xb9UDQ\\xba ?\\x8a\\x9c\\xa9\\xc5#\\xd4\\xceq3\\xab\\x99K\\x91\\\\\\xc5\\xf1\\xd7\\x8c\\xb4\\xbf\\x08F\\xba[H\\xadw>\\r\\xad\\xb2/\\'\\xfc\\xf3U\\xa4\\xf0\\xc7\\x87\\xbc[\\xa7\\xa9\\xd5 \\x86\\xf1\\xa49g6\\xfbv}sX\\x7f\\xd93\\xcb\\xf1._\\x88\\xbe/\\xfb,\\x16\\xf66\\xe6==\\xa6\\x94\\x05N:\\x9c\\x9f\\xad|\\xbf\\xfbw\\xff\\x00\\xc1m\\xff\\x00fO\\xd9+E\\xd4\\xb4\\xef\\r\\xebP\\xf8\\xa7\\xc6V\\xa0,^\\x1a\\xb7\\x90\\xa26{\\xf9\\x80\\x11\\xc5pU\\x9d\\x18k#|\\xb3/\\xcd15\\xadB.\\xfe_\\xafc\\xd9?i\\xdb\\xef\\x85\\xff\\x00\\x05\\xfc\\x17?\\x8e<Q\\xe2\\xf7\\xd1l4\\xc8\\xb26L\\x167n\\xd8_\\xefv\\xcd~$~\\xdb\\x9f\\xf0Z\\x9f\\x8c\\x1f\\x16~*\\x1f\\x86\\x9f\\x04\\xf5A\\xa0xf\\xce\\xe5Vmn\\tX_j\\x07\\xa1F\\x94\\x10\\ns\\xd3\\x1d\\xab\\xc3\\x7f\\xe0\\xa0\\x1f\\xf0T?\\x8f\\x7f\\xf0P_\\x11\\x1dC\\xc6\\xfef\\x8b\\xa5C\\x88\\xa0\\xf0\\xad\\x9d\\xd3y*\\x14\\x92$<\\xe1\\x8f>\\x95\\xf3N\\xb1}\\x1c\\xf3\\xdb\\xdb\\xc9\\'\\xee!\\x03\\xe7_\\xbc\\x86\\xbek0\\xac\\xaa\\xb7\\xcb\\xb1\\xfb\\xcf\\x0cp\\x9dhacS\\x14\\xef-\\xf5\\xe8}\\x89\\xe3M_X\\xf1?\\x89$\\xd65+\\x85mC\\xc8F\\xf2\\x13\\x84\\x94\\x102~\\xb5\\xc8jQ\\xc3v\\xdet1\\xa9\\x8f8\\x91\\x87\\x05_\\xd2\\xaf~\\xca~)\\xd0\\xfe7\\xf8Y\\xbfg\\xff\\x00\\x10_}\\x9f\\xc4\\xf6h\\xf7\\x1e\\x18\\xd7U\\xbe{\\x8091HO\\xb6\\xee\\xfd\\xab;\\xc4\\xdav\\xb5\\xe1\\xdf\\x10\\xdd\\xe8>$\\x83\\xec\\xba\\x85\\x9b\\xf9w\\x96\\x8a\\xb8Wn\\xa2O\\xc4b\\xbe;\\x11Np\\x9d\\xcfO6\\xc2\\xfb\\x04\\xf9^\\x88\\xce\\xd4c\\xb7+\\xe5\\xf6\\xac\\x8b\\xf5\\xb7\\x84\\x88\\xd3km^T\\xf3Rj\\xd7\\xae\\xa5\\xb6\\xf5\\xae?\\xe2W\\x89c\\xf0\\xbf\\x85.<A\\xff\\x00-\\xb7m\\xda}\\xeb\\xa7\\x03M\\xd6\\xa8\\x92>>\\xa6%)\\xd9\\x94a\\xf1\\x9f\\xc3\\xcdc\\xe2\\xfe\\x91\\xe1?\\x88z\\xbc\\xb6>\\x1e\\xfb\\\\m\\xab\\\\[\\xf2\\xc1\\x07 \\x01\\xee@\\x1f\\x8d~\\xdd~\\xca\\x9f\\xf0U\\xcf\\xd8v\\x0f\\x0f[~\\xcd\\x7f\\n4\\xd5\\xd3nt\\xbbH\\xd7K\\xd1\\xa2\"?\\xb6\\xb6\\x012\\x96\\x08\\x00\\'&\\xbf\\x9e\\x9f\\x06\\xcfs\\xad\\xebrkw\\xb2*\\xad\\xc3\\x95\\xde\\xcb\\xbbmw\\xde\\x16\\xd4\\xb5M:\\xf28\\xb4u\\xbc\\xb7\\xbaY|\\xe1\\xaaCu\\xb2\\xe3\\x8e\\xca\\xdd\\x87\\xb5}w\\xd5gN\\x8d\\x91\\xe9Q\\xca\\xe1\\x99P\\xe6{\\'\\xb7\\x99\\xfd\\x02~\\xd0\\xbf\\x17\\xbc\\x1b\\xe0\\xbd\\x1a\\xf3\\xe27\\x8f,\\xdbA\\xbd\\xd4.Ul\\xdd$\\xf3\\x02\\xbe\\xc0FH\\x1c\\xe4\\n\\xf2]s\\xe3_\\x83\\xff\\x00l\\x1f\\x80\\x9a\\xd4z\\x16\\xabi}\\xe3\\xaf\\x0f\\xfc\\xadgn\\x98{\\x98\\x069Ry\\x18\\r\\xef\\xd2\\xbf0\\xec\\xbflo\\xda3W\\xf0\\xabx\\x7f\\xc6\\xda\\xa5\\xc7\\x884o\\'\\xc8H5\\x9b\\xa6\\x9aH\\xb1\\xd2@I\\xea>\\x95\\xe7\\xff\\x00\\x0f\\x7fi\\x1f\\x1c|\\x00\\xf8\\xa1\\x1f\\xc5\\xaf\\x00\\xf8\\x9aK]N\\xd5\\xf6l\\xcb\\x05\\x96&\\xe1\\xd4\\x80y\\xe0\\x9a\\xe0\\xa5\\x83\\xa9\\xcez\\xf8\\xfc\\xab\\rG-I\\xf40\\x7fm\\xc4\\xf2<usq$M\\x88\\x9f\\xc9x\\x9b\\xef\\t9\\xfd+\\xe6\\xddB\\x19\\x96I\\x1a\\xe25V\\x8e]\\xae\\xa1{\\xf5\\xaf\\xb0?o\\xfdO\\xc3\\xff\\x00\\x19\\xb4\\xbb\\x7f\\xdb\\x03\\xe1\\xca\\xdb\\xc3\\xa5\\xde\\x08\\xec\\xee\\xf4\\xb4q\\xcd\\xd6>i1\\xd7\\xaf\\xb5|{\\xa9\\xc7x\\x97\\x8b\\xf6\\xc7\\xfd\\xe3&\\xe9\\xbe\\xbd\\xbfJ\\xfa\\x8c\\xbe\\x9c\\xa0\\xb5?\\x07\\xe2\\xc9\\xd3\\xfa\\xdf-=\\x8a\\x93\\x12\\x7f\\xef\\xaa\\x89\\xe5\\xf2\\xc8\\xa9&\\xeb\\xdf\\xefU;\\x97\\xda\\xed\\xd6\\xbd~v\\x99\\xf2\\x95#-\\x91\\xa1dZgX\\xebml_h\\xfb\\xdd+\\x03D|\\xdd\\xc7\\xbb\\x18\\xdd]ZJv\\x0e\\xbd=k\\x9a\\xb3nZ\\x1d\\xb8x\\xde\\x1a\\x9f\\xb4?\\xf0A\\x8f\\xf8+7\\xc1\\xbf\\xd9\\x17\\xf6g\\xd6\\xbe\\x19\\xfcb\\xbd\\xb8\\t\\'\\x88$\\xb8\\xb4\\x96I\\x0ftP8\\xc7\\xb1\\xaf]\\xfd\\xad\\x7f\\xe0\\xe5\\xab\\xbd1.\\xbc7\\xfb6|/\\x87T\\x99\\x98*jw\\xb7D\\xaa\\x029 `t\\xfa\\xd7\\xe4\\xdf\\xc1\\xdf\\x0b\\xe9\\xfe!\\xf8yoq}\\x1a\\x9cK\\x90\\x19{\\xfa\\xd7_\\x07\\x86\\xe3\\xb4\\x99\\xdfs\\xb2\\xb0\\xc7\\x96\\xbc \\xfc+\\x83\\x1b\\x8a\\xad\\x05d\\x7fDp\\xff\\x00\\x02\\xe58\\xcc,qU\\xd5\\xe6\\xf5\\xb6\\xbf\\xf0\\xc7m\\xf1\\xa7\\xfe\\n5\\xfbY~\\xd0w\\xb7\\x17\\x1e4\\xf8\\xd5\\xacE\\x1d\\xf7\\x0f\\xa1Z\\xdeJ\\xb6\\xca=1\\x9a\\xf1\\xc9\\xe6\\x16\\xb7\\x8f\\xaa^n\\xbe\\xbd\\xb8\\xfb\\xf2\\xcc\\xdb\\x8f\\xeb]Jxb\\x11#H\\xb6\\xf1\\xa6\\xe6\\xe8\\x89\\x80~\\xb4\\xb7\\xda\\'+$v\\xea\\xa0pB\\xa5x5\\xa5Z\\xb6\\xe7\\xea\\x19~I\\x96`)\\xa5J\\x08\\xe4\\xb5\\xaf\\x05\\xe9\\xba\\xd5\\xa8\\x93\\xeck\\r\\xcb\\x8c\\xefE\\xe9\\\\\\x0f\\x88<-\\xaaxj\\xe7u\\xc34\\xf1\\xfb\\xafJ\\xf6\\x1bM8\\xc2\\xd2}\\xe2\\xac\\xf9\\xc3u\\x14\\x97z\\x15\\x9d\\xd8\\xff\\x00\\x8fq\\xcf]\\xeb\\x9a\\xcf\\x91\\xf2Y\\x9bT\\xc3\\xa6\\xdbZ\\x1eW\\xe1;\\xfdc\\xc2\\xfe$\\xb1\\xd5\\xfc7x\\xcb$/\\xf6\\xcb=\\xad\\x8e\\x9c\\x11\\xfa\\x1a\\xfa\\x0b\\xc5_\\x14?\\xe1z\\xbd\\xaf\\xc4MB%[\\xcb\\x8ba\\r\\xe6\\xde\\xec\\xbc\\x7f +\\xc8\\xbc]\\xf0\\xfaM\\x1e\\xf9u\\x1d\\x06\\xe1\\xb6\\xc6\\x9baF_\\xb8\\x0f_\\xebF\\x9b\\xe3\\x9b\\x8f\\x05i\\x10\\xe9\\xf1\\xe8l\\xcb\\xe7bM\\xb2\\xed\\xe4\\xf7\\xaf>\\xb6\\x1f\\x9dY\\x9f9\\x99e3\\x9d9L\\xf4\\x17\\xd1c\\x89\\xfc\\xed\\xd9\\xaf\"\\xfd\\xa8\\xde\\xe2\\xe3E\\xfb\\x0c1\\xfc\\xb1\\x94\\xdcGz\\xf5y5\\xe8\\xe7\\xd1\\xe3\\xbc\\x93\\xf7k\"n\\xeb\\xd2\\xbco\\xe2\\x17\\x8b\\x17[\\xf1J\\xe8&1$28\\xdd\\xba\\xb5\\xc0\\xe1]\\x1a\\xa9\\xa4~W\\x88\\xa5\\xfe\\xdb\\xec\\xcec\\xe1O\\x85.5k(d\\xb7\\xb8h\\xf6\\xb9\\xdd]\\xabi\\xb1\\xe8\\x17\\x0b\\x1e\\xb1o\\xe6g\\xee\\xc8\\xd5\\xd4X\\xf8OC\\xd0\\xb4+y\\xac\\xe30\\xb2\\xfc\\xce\\xa1>\\xf5]\\xd54\\xbb\\x8f\\x14h\\xe2;;\\x1f0G\\xf7[n\\r}\\x14\\xaa^6>\\xeb/\\xc3\\xc2\\x18\\x1b\\xb7mN_\\\\\\xbf\\xb8\\xd3\\xfc>\\xdfg\\xbc;Yw\\xa7=\\x05xw\\x8a\\xf5\\xddgX\\xbd\\x92O\\xb6\\x10\\xaa\\xd8\\xfb\\xd5\\xef\\x1e#\\xf0\\x9cz_\\x85.\\xaf5\\xc9\\xbc\\xbd\\x89\\x80\\x18\\xf4\\x15\\xf3\\xae\\xb8 \\xd9<\\x91\\xc8\\xca\\xf2I\\x8btQ\\x9d\\xfc\\xd6\\xb8x\\xfb\\xda\\x9f?\\xc4\\x98\\x95\\x0c-\\xa3\"\\xac\\xda\\x8d\\xc4k\\xf6u\\x99\\x8a\\xf5\\xd9\\xbb\\xe5\\xcf\\xd2\\xab\\xdf#Kf\\xd7\\x12\\xf5\\xab\\xa6\\xc6kD\\xff\\x00L\\x8f\\xe6\\xc7\\xdd\\xaa\\x9a\\x8b,\\xb6\\xc68\\xfeZ\\xf5\\xb0\\xf1\\x8cQ\\xf8^m)\\xd4\\xc5s\\xcbc6\\xda]\\xeb\\x1cl\\x9cn\\xad\\rw\\xc3M-\\x9aj\\x11\\xe7\\xe6\\xaa\\xb0\\xdb\\xe2!\\xe5\\xb7\\xcc\\xa7\\xefWi\\xe1\\xeb\\xab=O\\xc2\\xcbg$_\\xbc\\x8c\\x10}\\xf9\\xa5V\\xeaZ\\x1cq\\xe4\\xa9=\\x0e\\x0e\\xd6\\xd7\\xf7bI:\\xa1\\xadU)\\xb4q\\xda\\xac\\xdc\\xf8~o5\\xbe\\xcf\\xce\\xe6\\xfb\\xb8\\xa8\\x7f\\xb3/?\\xe7\\x95K\\x92\\xeauR\\x8f,l}\\x85\\xf0\\x1b\\xfeI\\xa4\\x1f\\xef\\xb7\\xf3\\xae\\xe2?\\xb8>\\x94Q^f?s\\xfa\\xd7\\x87?\\xdci\\xff\\x00\\x85\\x0e\\xa8\\xae\\xff\\x00\\xd5QEy\\xa7\\xd5S2\\x9f\\xab}i\\x07\\xdd4QY\\xd4\\xd8\\'\\xf1\\x11\\xdc\\xff\\x00\\xc7\\xb9\\xff\\x00z\\xbc\\xfb\\xe2/\\xfcx7\\xfdt_\\xe7E\\x15\\xcb-\\xce\\\\W\\xfb\\xbb4d\\xff\\x00\\x91>\\x0f\\xf7+\\xca\\x07\\xfc\\x948?\\xdf\\xa2\\x8a\\xe8\\xa3\\xf1\\x1f\\x89b?\\xe4n\\xfdO\\xa04\\xdf\\xf8\\xf4\\x83\\xfd\\xca\\xbdc\\xff\\x00 i\\xbe\\x86\\x8a+\\xd0\\xfbG\\xd7\\xd3\\xff\\x00q\\xf9\\x9e\\'\\xf1\\xef\\xfeA\\xf2\\x7f\\xd7\\x11\\xff\\x00\\xa1W\\x96\\xf8\\x17\\xfeG\\xdd3\\xfe\\xb9\\xc9\\xfc\\x8d\\x14W]-\\xcf\\x87\\xe2\\x1f\\xf7q\\x9f\\x11\\x7f\\xe4(\\xdf\\xefW\\'s\\xf7\\xdb\\xfd\\xda(\\xafO\\r\\xb1\\xf9\\x1ebCo\\xfe\\xa5\\xbe\\xb5\\xd1x;\\xfe=e\\xfaQEUC\\xce\\xc2\\xfcl\\xb8\\x9f\\xeb\\x93\\xeaj\\x17\\xfb\\xe7\\xebE\\x15\\xc9=\\xce\\xf8l\\x7f\\xff\\xd9'}\n",
            "nomask\n"
          ],
          "name": "stdout"
        }
      ]
    },
    {
      "cell_type": "code",
      "metadata": {
        "colab": {
          "resources": {
            "http://localhost:8080/nbextensions/google.colab/files.js": {
              "data": "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",
              "ok": true,
              "headers": [
                [
                  "content-type",
                  "application/javascript"
                ]
              ],
              "status": 200,
              "status_text": ""
            }
          },
          "base_uri": "https://localhost:8080/",
          "height": 89
        },
        "id": "dJXu2QRpHPKW",
        "outputId": "db6d95b1-d7e8-4cb0-c2a8-aae719f7512d"
      },
      "source": [
        "import numpy as np\n",
        "from google.colab import files\n",
        "from keras.preprocessing import image\n",
        "\n",
        "uploaded=files.upload()\n",
        "for f in uploaded.keys():\n",
        "  img_path='/content/'+f\n",
        "  img = image.load_img(img_path , target_size=(150,150))\n",
        "  images = image.img_to_array(img)\n",
        "  images=np.expand_dims(images,axis=0)\n",
        "  prediction = model.predict(images)\n",
        "  if prediction==0:\n",
        "    print('mask')\n",
        "  else:\n",
        "    print('nomask')\n"
      ],
      "execution_count": null,
      "outputs": [
        {
          "output_type": "display_data",
          "data": {
            "text/html": [
              "\n",
              "     <input type=\"file\" id=\"files-20a24c7d-7a0c-4fa8-9140-a2e57b52f49e\" name=\"files[]\" multiple disabled\n",
              "        style=\"border:none\" />\n",
              "     <output id=\"result-20a24c7d-7a0c-4fa8-9140-a2e57b52f49e\">\n",
              "      Upload widget is only available when the cell has been executed in the\n",
              "      current browser session. Please rerun this cell to enable.\n",
              "      </output>\n",
              "      <script src=\"/nbextensions/google.colab/files.js\"></script> "
            ],
            "text/plain": [
              "<IPython.core.display.HTML object>"
            ]
          },
          "metadata": {
            "tags": []
          }
        },
        {
          "output_type": "stream",
          "text": [
            "Saving 0018.jpg to 0018.jpg\n",
            "mask\n"
          ],
          "name": "stdout"
        }
      ]
    },
    {
      "cell_type": "code",
      "metadata": {
        "id": "E9ekVNghenRE"
      },
      "source": [
        "model.save('savemodel.h5')"
      ],
      "execution_count": null,
      "outputs": []
    },
    {
      "cell_type": "code",
      "metadata": {
        "id": "9H4QrwAGdeGZ"
      },
      "source": [
        "import cv2\n",
        "from tensorflow.keras.models import load_model\n",
        "from tensorflow.keras.preprocessing.image import load_img , img_to_array\n",
        "import numpy as np\n",
        "\n",
        "model =load_model('model.h5')\n",
        "\n",
        "img_width , img_height = 150,150\n",
        "\n",
        "face_cascade = cv2.CascadeClassifier('haarcascade_frontalface_default.xml')\n",
        "\n",
        "cap = cv2.VideoCapture(0)\n",
        "\n",
        "img_count_full = 0\n",
        "\n",
        "font = cv2.FONT_HERSHEY_SIMPLEX\n",
        "org = (1,1)\n",
        "class_label = ''\n",
        "fontScale = 1\n",
        "color = (255,0,0)\n",
        "thickness = 2\n",
        "\n",
        "while True:\n",
        "    img_count_full += 1\n",
        "    response , color_img = cap.read()\n",
        "\n",
        "    if response == False:\n",
        "        break\n",
        "\n",
        "    scale = 50\n",
        "    width = int(color_img.shape[1]*scale /100)\n",
        "    height = int(color_img.shape[0]*scale/100)\n",
        "    dim = (width,height)\n",
        "\n",
        "    color_img = cv2.resize(color_img, dim ,interpolation= cv2.INTER_AREA)\n",
        "\n",
        "    gray_img = cv2.cvtColor(color_img,cv2.COLOR_BGR2GRAY)\n",
        "\n",
        "    faces = face_cascade.detectMultiScale(gray_img, 1.1, 6)\n",
        "\n",
        "    img_count = 0\n",
        "    for (x,y,w,h) in faces:\n",
        "        org = (x-10,y-10)\n",
        "        img_count += 1\n",
        "        color_face = color_img[y:y+h,x:x+w]\n",
        "        cv2.imwrite('input/%d%dface.jpg'%(img_count_full,img_count),color_face)\n",
        "        img = load_img('input/%d%dface.jpg'%(img_count_full,img_count),target_size=(img_width,img_height))\n",
        "        img = img_to_array(img)\n",
        "        img = np.expand_dims(img,axis=0)\n",
        "        prediction = model.predict(img)\n",
        "\n",
        "\n",
        "        if prediction==0:\n",
        "            class_label = \"Mask\"\n",
        "            color = (255,0,0)\n",
        "\n",
        "        else:\n",
        "            class_label = \"No Mask\"\n",
        "            color = (0,255,0)\n",
        "\n",
        "\n",
        "        cv2.rectangle(color_img,(x,y),(x+w,y+h),(0,0,255),3)\n",
        "        cv2.putText(color_img, class_label, org, font ,fontScale, color, thickness,cv2.LINE_AA)\n",
        "\n",
        "    cv2.imshow('Face mask detection', color_img)\n",
        "    if cv2.waitKey(1) & 0xFF == ord('q'):\n",
        "        break\n",
        "\n",
        "cap.release()\n",
        "cv2.destroyAllWindows()\n"
      ],
      "execution_count": null,
      "outputs": []
    }
  ]
}